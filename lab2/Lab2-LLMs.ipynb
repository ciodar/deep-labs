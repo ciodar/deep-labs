{
 "cells": [
  {
   "attachments": {},
   "cell_type": "markdown",
   "id": "0f5d0b9d-7980-4d2c-8154-c07a5f8b5525",
   "metadata": {},
   "source": [
    "# Introduction\n",
    "In this laboratory we will get our hands dirty working with Large Language Models (e.g. GPT and BERT) to do various useful things. I you haven't already, it is highly recommended to:\n",
    "\n",
    "+ Read the [Attention is All you Need](https://arxiv.org/abs/1706.03762) paper, which is the basis for all transformer-based LLMs.\n",
    "+ Watch (and potentially *code along*) with this [Andrej Karpathy video](https://www.youtube.com/watch?v=kCc8FmEb1nY) which shows you how to build an autoregressive GPT model from the ground up.\n",
    "\n",
    "# Exercise 1: Warming Up\n",
    "In this first exercise you will train a *small* autoregressive GPT model for character generation (the one used by Karpathy in his video) to generate text in the style of Dante Aligheri. Use [this file](https://archive.org/stream/ladivinacommedia00997gut/1ddcd09.txt), which contains the entire text of Dante's Inferno (**note**: you will have to delete some introductory text at the top of the file before training). Train the model for a few epochs, monitor the loss, and generate some text at the end of training. Qualitatively evaluate the results"
   ]
  },
  {
   "cell_type": "code",
   "execution_count": 1,
   "metadata": {
    "ExecuteTime": {
     "end_time": "2023-06-18T20:03:05.436805400Z",
     "start_time": "2023-06-18T20:02:57.189783700Z"
    },
    "collapsed": false
   },
   "outputs": [],
   "source": [
    "import pathlib as pl\n",
    "import numpy as np\n",
    "\n",
    "import torch\n",
    "from torch import nn\n",
    "import torch.nn.functional as F\n",
    "\n",
    "from data_loader.swag_datamodule import SWAGDataModule\n",
    "from data_loader.feature_datamodule import FeatureDataModule\n",
    "from feature_extraction import extract_features\n",
    "\n",
    "from models import QAMLP\n",
    "from models.gpt import decode, estimate_loss, get_batch, GPTLanguageModel\n",
    "\n",
    "device = 'cuda' if torch.cuda.is_available() else 'cpu'"
   ]
  },
  {
   "cell_type": "code",
   "execution_count": 2,
   "metadata": {
    "collapsed": false
   },
   "outputs": [
    {
     "name": "stdout",
     "output_type": "stream",
     "text": [
      "Using device: cuda\n",
      "10.783546 M parameters\n"
     ]
    }
   ],
   "source": [
    "max_iters = 500\n",
    "eval_interval = 100\n",
    "learning_rate = 3e-4\n",
    "\n",
    "checkpoint_path = 'runs/nanogpt/gpt.pth'\n",
    "\n",
    "print(f\"Using device: {device}\")\n",
    "\n",
    "model = GPTLanguageModel()\n",
    "model = model.to(device)\n",
    "# print the number of parameters in the model\n",
    "print(sum(p.numel() for p in model.parameters())/1e6, 'M parameters')\n",
    "\n",
    "# create a PyTorch optimizer\n",
    "optimizer = torch.optim.AdamW(model.parameters(), lr=learning_rate)"
   ]
  },
  {
   "cell_type": "code",
   "execution_count": 3,
   "metadata": {
    "collapsed": false
   },
   "outputs": [
    {
     "name": "stdout",
     "output_type": "stream",
     "text": [
      "Loaded checkpoint from runs/nanogpt/gpt.pth\n",
      "step 0: train loss 1.7579, val loss 1.8074\n",
      "step 100: train loss 1.6759, val loss 1.7364\n",
      "step 200: train loss 1.5785, val loss 1.6650\n",
      "step 300: train loss 1.4732, val loss 1.6043\n",
      "step 400: train loss 1.3904, val loss 1.5724\n",
      "step 499: train loss 1.2913, val loss 1.5445\n"
     ]
    }
   ],
   "source": [
    "if pl.Path(checkpoint_path).exists():\n",
    "    checkpoint = torch.load(checkpoint_path)\n",
    "    model.load_state_dict(checkpoint)\n",
    "    print(f\"Loaded checkpoint from {checkpoint_path}\")\n",
    "\n",
    "for iter in range(max_iters):\n",
    "\n",
    "    # every once in a while evaluate the loss on train and val sets\n",
    "    if iter % eval_interval == 0 or iter == max_iters - 1:\n",
    "        losses = estimate_loss(model)\n",
    "        print(f\"step {iter}: train loss {losses['train']:.4f}, val loss {losses['val']:.4f}\")\n",
    "\n",
    "    # sample a batch of data\n",
    "    xb, yb = get_batch('train')\n",
    "\n",
    "    # evaluate the loss\n",
    "    logits, loss = model(xb, yb)\n",
    "    optimizer.zero_grad(set_to_none=True)\n",
    "    loss.backward()\n",
    "    optimizer.step()\n",
    "\n",
    "# overwrite the checkpoint\n",
    "torch.save(model.state_dict(), checkpoint_path)"
   ]
  },
  {
   "cell_type": "code",
   "execution_count": 4,
   "metadata": {
    "ExecuteTime": {
     "end_time": "2023-06-15T15:16:09.277610100Z",
     "start_time": "2023-06-15T15:15:45.485050800Z"
    },
    "collapsed": false
   },
   "outputs": [
    {
     "name": "stdout",
     "output_type": "stream",
     "text": [
      "\n",
      "E che 'l botta` d'io mai poco altedesmo;\n",
      "  paro` che' idia ma l'ospeta e 'l diviola.\n",
      "\n",
      "Quel l'e` quasi unl'alla sempo sco,\n",
      "  tecesser nia la bolle di ben Stese,\n",
      "  fiati suoleta de lor mano i calde.\n",
      "\n",
      "Noi gido` che fate d'io le seguante,\n",
      "  con la` d'occh'l penti foco scia ' lieto;\n",
      "  e ch'ancosi` per stiglier de l'ittrossia.\n",
      "\n",
      "I' me, ch'a piu` toffestiro dirsi,\n",
      "  e desssu prianzi fierati il liro,\n",
      "  tanno poi che nosti sanza fonti:\n",
      "\n",
      "ch'ebber di reperosso e iolti arebbia\n",
      "  vannor misini ornivi unos in \n"
     ]
    }
   ],
   "source": [
    "# generate from the model\n",
    "model.load_state_dict(torch.load('runs/nanogpt/gpt.pth'))\n",
    "context = torch.zeros((1, 1), dtype=torch.long, device=device)\n",
    "print(decode(model.generate(context, max_new_tokens=500)[0].tolist()))\n",
    "#open('more.txt', 'w').write(decode(m.generate(context, max_new_tokens=10000)[0].tolist()))"
   ]
  },
  {
   "attachments": {},
   "cell_type": "markdown",
   "id": "79499e05",
   "metadata": {},
   "source": [
    "We can see that after 1000 steps text stats to resemble the style of Divina Commedia, even though the words used aren't real. Some relationships, like angular brackets for citations and the title of the \"Canto\" are also learned."
   ]
  },
  {
   "attachments": {},
   "cell_type": "markdown",
   "id": "68441a09-dfaf-424a-b640-4fc8cea289b5",
   "metadata": {},
   "source": [
    "# Exercise 2: Working with Real LLMs\n",
    "\n",
    "Our toy GPT can only take us so far. In this exercise we will see how to use the [Hugging Face](https://huggingface.co/) model and dataset ecosystem to access a *huge* variety of pre-trained transformer models.\n",
    "\n",
    "## Exercise 2.1: Installation and text tokenization\n",
    "\n",
    "First things first, we need to install the [Hugging Face transformer library](https://huggingface.co/docs/transformers/index):\n",
    "\n",
    "    conda install -c huggingface -c conda-forge transformers\n",
    "    \n",
    "The key classes that you will work with are `GPT2Tokenizer` to encode text into sub-word tokens, and the `GPT2LMHeadModel`. **Note** the `LMHead` part of the class name -- this is the version of the GPT2 architecture that has the text prediction heads attached to the final hidden layer representations (i.e. what we need to **generate** text). \n",
    "\n",
    "Instantiate the `GPT2Tokenizer` and experiment with encoding text into integer tokens. Compare the length of input with the encoded sequence length.\n",
    "\n",
    "**Tip**: Pass the `return_tensors='pt'` argument to the togenizer to get Pytorch tensors as output (instead of lists)."
   ]
  },
  {
   "cell_type": "code",
   "execution_count": 6,
   "id": "af199a6d-1f3a-4b2c-a23f-d697b93c5adb",
   "metadata": {
    "ExecuteTime": {
     "end_time": "2023-06-08T09:42:44.728249400Z",
     "start_time": "2023-06-08T09:42:42.073397500Z"
    },
    "tags": []
   },
   "outputs": [
    {
     "data": {
      "application/vnd.jupyter.widget-view+json": {
       "model_id": "4e4f4d7af99a48c79ff6356b7d6c7161",
       "version_major": 2,
       "version_minor": 0
      },
      "text/plain": [
       "Downloading (…)olve/main/vocab.json:   0%|          | 0.00/1.04M [00:00<?, ?B/s]"
      ]
     },
     "metadata": {},
     "output_type": "display_data"
    },
    {
     "name": "stderr",
     "output_type": "stream",
     "text": [
      "c:\\Users\\Dario\\mambaforge\\envs\\nlp\\lib\\site-packages\\huggingface_hub\\file_download.py:133: UserWarning: `huggingface_hub` cache-system uses symlinks by default to efficiently store duplicated files but your machine does not support them in C:\\Users\\Dario\\.cache\\huggingface\\hub. Caching files will still work but in a degraded version that might require more space on your disk. This warning can be disabled by setting the `HF_HUB_DISABLE_SYMLINKS_WARNING` environment variable. For more details, see https://huggingface.co/docs/huggingface_hub/how-to-cache#limitations.\n",
      "To support symlinks on Windows, you either need to activate Developer Mode or to run Python as an administrator. In order to see activate developer mode, see this article: https://docs.microsoft.com/en-us/windows/apps/get-started/enable-your-device-for-development\n",
      "  warnings.warn(message)\n"
     ]
    },
    {
     "data": {
      "application/vnd.jupyter.widget-view+json": {
       "model_id": "d8e56dfc7e884ba8b28c10a0157befa1",
       "version_major": 2,
       "version_minor": 0
      },
      "text/plain": [
       "Downloading (…)olve/main/merges.txt:   0%|          | 0.00/456k [00:00<?, ?B/s]"
      ]
     },
     "metadata": {},
     "output_type": "display_data"
    },
    {
     "data": {
      "application/vnd.jupyter.widget-view+json": {
       "model_id": "62a04936ac0849a282112167f76ed6e8",
       "version_major": 2,
       "version_minor": 0
      },
      "text/plain": [
       "Downloading (…)lve/main/config.json:   0%|          | 0.00/665 [00:00<?, ?B/s]"
      ]
     },
     "metadata": {},
     "output_type": "display_data"
    },
    {
     "data": {
      "application/vnd.jupyter.widget-view+json": {
       "model_id": "d22093ecf4294e85b50e2b16916b34cb",
       "version_major": 2,
       "version_minor": 0
      },
      "text/plain": [
       "Downloading pytorch_model.bin:   0%|          | 0.00/548M [00:00<?, ?B/s]"
      ]
     },
     "metadata": {},
     "output_type": "display_data"
    },
    {
     "data": {
      "application/vnd.jupyter.widget-view+json": {
       "model_id": "a678e13990f94b298ada5f90e7cdd568",
       "version_major": 2,
       "version_minor": 0
      },
      "text/plain": [
       "Downloading (…)neration_config.json:   0%|          | 0.00/124 [00:00<?, ?B/s]"
      ]
     },
     "metadata": {},
     "output_type": "display_data"
    }
   ],
   "source": [
    "from transformers import GPT2LMHeadModel, GPT2Tokenizer\n",
    "\n",
    "# import tokenizer\n",
    "tokenizer = GPT2Tokenizer.from_pretrained('gpt2',return_tensors='pt',padding_side='left')\n",
    "# define model backbone\n",
    "model = GPT2LMHeadModel.from_pretrained(\"gpt2\", pad_token_id=tokenizer.eos_token_id)"
   ]
  },
  {
   "attachments": {},
   "cell_type": "markdown",
   "metadata": {
    "collapsed": false
   },
   "source": [
    "GPT uses a **BPE tokenizer**, which is a subword-based tokenizer that allows to bring a good balance between character-level and word-level tokenizers, representing most common words as single tokens and rarer words as sequences of subword units.\n",
    "\n",
    "To see this in action, let's try to encode the following sentence:\n",
    "\n",
    "    \"The quick brown fox jumps over the lazy dog\""
   ]
  },
  {
   "cell_type": "code",
   "execution_count": 7,
   "metadata": {
    "ExecuteTime": {
     "end_time": "2023-06-08T09:42:44.758790900Z",
     "start_time": "2023-06-08T09:42:44.729244900Z"
    },
    "collapsed": false
   },
   "outputs": [
    {
     "name": "stdout",
     "output_type": "stream",
     "text": [
      "[464, 2068, 7586, 21831, 18045, 625, 262, 16931, 3290]\n",
      "['The', 'Ġquick', 'Ġbrown', 'Ġfox', 'Ġjumps', 'Ġover', 'Ġthe', 'Ġlazy', 'Ġdog']\n"
     ]
    }
   ],
   "source": [
    "input = 'The quick brown fox jumps over the lazy dog'\n",
    "\n",
    "input_ids = tokenizer.encode(input)\n",
    "print(input_ids)\n",
    "print(tokenizer.convert_ids_to_tokens(input_ids))"
   ]
  },
  {
   "attachments": {},
   "cell_type": "markdown",
   "metadata": {
    "collapsed": false
   },
   "source": [
    "We can see that some words are encoded with more than one token. All tokens containing the first word piece are preceded by the character Ġ"
   ]
  },
  {
   "attachments": {},
   "cell_type": "markdown",
   "id": "a458b725-63c1-49ae-8011-71a9196387b8",
   "metadata": {},
   "source": [
    "## Exercise 2.2: Generating Text\n",
    "\n",
    "There are a lot of ways we can, given a *prompt* in input, sample text from a GPT2 model. Instantiate a pre-trained `GPT2LMHeadModel` and use the [`generate()`](https://huggingface.co/docs/transformers/v4.27.2/en/main_classes/text_generation#transformers.GenerationMixin.generate) method to generate text from a prompt.\n",
    "\n",
    "**Note**: The default inference mode for GPT2 is *greedy* which might not results in satisfying generated text. Look at the `do_sample` and `temperature` parameters.\n",
    "\n",
    "### Greedy search\n",
    "In greedy search we always pick the token with the highest probability as the next token. This strategy can lead to repetitive and not very interesting text, as we can see in the following example."
   ]
  },
  {
   "cell_type": "code",
   "execution_count": 8,
   "id": "bdad9208-cc9e-4750-baa5-f9367e71362a",
   "metadata": {
    "ExecuteTime": {
     "end_time": "2023-06-08T09:42:48.505289100Z",
     "start_time": "2023-06-08T09:42:44.743253800Z"
    },
    "tags": []
   },
   "outputs": [
    {
     "name": "stdout",
     "output_type": "stream",
     "text": [
      "Output:\n",
      "----------------------------------------------------------------------------------------------------\n",
      "The quick brown fox jumps over the lazy dog and runs off.\n",
      "\n",
      "\"I'm sorry, I'm sorry, I'm sorry,\" the fox says.\n",
      "\n",
      "\"I'm sorry, I'm sorry, I'm sorry,\" the fox says.\n",
      "\n",
      "\"I'm sorry, I'm sorry, I'm sorry,\" the fox says.\n",
      "\n",
      "\"I'm sorry, I'm sorry, I'm sorry,\" the fox says.\n",
      "\n",
      "\"I'm sorry, I'm sorry, I'm sorry,\" the fox says.\n",
      "\n",
      "\"I'm sorry, I'm sorry, I'm sorry,\" the fox says.\n",
      "\n"
     ]
    }
   ],
   "source": [
    "# encode context the generation is conditioned on\n",
    "# don't pass anything\n",
    "#input = tokenizer.bos_token\n",
    "\n",
    "input_ids = tokenizer.encode(input, return_tensors='pt')\n",
    "\n",
    "output = model.generate(input_ids, max_length=128)\n",
    "print(\"Output:\\n\" + 100 * '-')\n",
    "print(tokenizer.decode(output[0], skip_special_tokens=True))"
   ]
  },
  {
   "attachments": {},
   "cell_type": "markdown",
   "metadata": {
    "collapsed": false
   },
   "source": [
    "### Multinomial sampling\n",
    "In multinomial sampling we randomly select the next token based on the probability distribution over the vocabulary. This allows to generate more diverse text, sampling less probable tokens. To perform multinomial sampling we set the `do_sample` parameter.\n",
    "\n",
    "We can control the diversity of the sampling by using the `temperature` parameter. A low temperature will result in a more conservative sampling, while a high temperature will result in a more diverse sampling."
   ]
  },
  {
   "cell_type": "code",
   "execution_count": 13,
   "id": "78e27f25",
   "metadata": {},
   "outputs": [
    {
     "name": "stdout",
     "output_type": "stream",
     "text": [
      "Output:\n",
      "----------------------------------------------------------------------------------------------------\n",
      "The quick brown fox jumps over the lazy dog and runs his paws along his body. The lazy dog keeps his head down and he waits for the fox to run his paws at him. I don't want to be done with the dog. I wish he wouldn't run around on his little paws. The fox comes to rest between the lazy dog and my little fox and he looks at the other dog and says, \"I'm a puppy\". The lazy dog starts to run away from me and I take my leave and go to sleep somewhere. I want to go home, but I don't have to sleep. This is the truth of life or at least, the truth of my life.\n",
      "\n",
      "Sometimes times I really want to sleep, because I'm so sad. My mother took me to a very long time after school and told me to wait for a while. I thought it would take all of my willpower to wait for a little bit more. This seems the answer to all my worries. I always say to myself, \"Maybe I'll come back a little later then\". I say, \"No\".\n",
      "\n",
      "You want to stay up late every night feeling sad after a long day of watching TV and reading books. A good day is the best time to sit at a desk or watch TV. The TV is so good because everyone is using it. As I sat in my sleep I could not get out the door. I thought, \"Maybe I'll just sit here thinking in my head that I can get out of bed and I'll find a seat and sit in it\". As I found the seat I felt like I was in the center of a tornado and only now the whole world saw me. I felt like it would never end! I was completely lost in the world. I knew I would never find another way to find peace and love. It is very clear that I could never find love, ever!\n",
      "\n",
      "One way to make myself feel happy while watching TV is to put myself under the supervision of people who will watch. This is not too hard, but as always I will stop right here and go back to my life. A good person will help you find your path of love. If you really want to find your life you must be in a relationship as the man or woman who is right for you, that person must be your new master.\n",
      "\n",
      "If you are watching TV and you are not sure you want to go, try this simple method. If yourpointers will be low it may be time to\n"
     ]
    }
   ],
   "source": [
    "output = model.generate(input_ids,temperature=0.9,do_sample=True,max_length=512)\n",
    "\n",
    "print(\"Output:\\n\" + 100 * '-')\n",
    "print(tokenizer.decode(output[0], skip_special_tokens=True))"
   ]
  },
  {
   "attachments": {},
   "cell_type": "markdown",
   "id": "2e0e4804",
   "metadata": {},
   "source": [
    "By lowering the temperature, we can see that the text becomes more repetitive"
   ]
  },
  {
   "cell_type": "code",
   "execution_count": 9,
   "metadata": {
    "ExecuteTime": {
     "end_time": "2023-06-08T09:42:52.120696700Z",
     "start_time": "2023-06-08T09:42:48.508280800Z"
    },
    "collapsed": false
   },
   "outputs": [
    {
     "name": "stdout",
     "output_type": "stream",
     "text": [
      "Output:\n",
      "----------------------------------------------------------------------------------------------------\n",
      "The quick brown fox jumps over the lazy dog and runs off.\n",
      "\n",
      "The lazy dog runs off.\n",
      "\n",
      "The lazy dog runs off.\n",
      "\n",
      "The lazy dog runs off.\n",
      "\n",
      "The lazy dog runs off.\n",
      "\n",
      "The lazy dog runs off.\n",
      "\n",
      "The lazy dog runs off.\n",
      "\n",
      "The lazy dog runs off.\n",
      " seafood\n",
      "\n",
      "The lazy dog runs off.\n",
      "\n",
      "The lazy dog runs off.\n",
      "\n",
      "The lazy dog runs offtch\n",
      "\n",
      "The lazy dog runs off.\n",
      "\n",
      "The lazy dog runs off.\n",
      "\n",
      "The lazy dog runs off.\n",
      "\n",
      "The lazy dog runs off.\n",
      "\n"
     ]
    }
   ],
   "source": [
    "output = model.generate(input_ids,temperature=0.1,do_sample=True, max_length=128)\n",
    "\n",
    "print(\"Output:\\n\" + 100 * '-')\n",
    "print(tokenizer.decode(output[0], skip_special_tokens=True))"
   ]
  },
  {
   "attachments": {},
   "cell_type": "markdown",
   "metadata": {
    "collapsed": false
   },
   "source": [
    "### Beam search\n",
    "In beam search we keep several sequence hypotheses at each time step, and eventually choose the one with the overall highest probability for the entire sequence. This has the advantage of identifying high-probability sequences that are not necessarily the most probable at each step. To perform beam search we set the `num_beams` parameter.\n",
    "\n",
    "We can also combine the beam search with multinomial sampling by setting the `do_sample` parameter."
   ]
  },
  {
   "cell_type": "code",
   "execution_count": 11,
   "id": "b22ea542",
   "metadata": {
    "ExecuteTime": {
     "end_time": "2023-06-08T09:43:15.992448100Z",
     "start_time": "2023-06-08T09:43:10.251160400Z"
    },
    "collapsed": false
   },
   "outputs": [
    {
     "name": "stdout",
     "output_type": "stream",
     "text": [
      "Output:\n",
      "----------------------------------------------------------------------------------------------------\n",
      "The quick brown fox jumps over the lazy dog and starts to run.\n",
      "\n",
      "\"Hey, look at that!\"\n",
      "\n",
      "The lazy dog starts running.\n",
      "\n",
      "\"Hey, look at that!\"\n",
      "\n",
      "The lazy dog starts running.\n",
      "\n",
      "\"Hey, look at that!\"\n",
      "\n",
      "The lazy dog starts running.\n"
     ]
    }
   ],
   "source": [
    "output = model.generate(input_ids, num_beams=5, temperature=0.9,do_sample=True, max_length=128)\n",
    "\n",
    "print(\"Output:\\n\" + 100 * '-')\n",
    "print(tokenizer.decode(output[0], skip_special_tokens=True))"
   ]
  },
  {
   "attachments": {},
   "cell_type": "markdown",
   "id": "88f1b069",
   "metadata": {},
   "source": [
    "Another way to avoid repetitions is to use the `no_repeat_ngram_size` parameter, which prevents the model from generating the same n-gram twice."
   ]
  },
  {
   "cell_type": "code",
   "execution_count": 15,
   "id": "92ece69a",
   "metadata": {},
   "outputs": [
    {
     "name": "stdout",
     "output_type": "stream",
     "text": [
      "Output:\n",
      "----------------------------------------------------------------------------------------------------\n",
      "The quick brown fox jumps over the lazy dog and runs off.\n",
      "\n",
      "\"I'm not going to let you go,\" she says. \"I'm going to tell you to get out of here.\"\n"
     ]
    }
   ],
   "source": [
    "output = model.generate(input_ids, num_beams=5, temperature=0.9,do_sample=True, no_repeat_ngram_size=3, max_length=128)\n",
    "\n",
    "print(\"Output:\\n\" + 100 * '-')\n",
    "print(tokenizer.decode(output[0], skip_special_tokens=True))"
   ]
  },
  {
   "attachments": {},
   "cell_type": "markdown",
   "id": "9b3d00e7-d4db-440f-8702-11118f07b0a4",
   "metadata": {},
   "source": [
    "# Exercise 3: Reusing Pre-trained LLMs (choose one)\n",
    "\n",
    "Choose **one** of the following exercises (well, *at least* one). In each of these you are asked to adapt a pre-trained LLM (`GPT2Model` or `DistillBERT` are two good choices) to a new Natural Language Understanding task. A few comments:\n",
    "\n",
    "+ Since GPT2 is a *autoregressive* model, there is no latent space aggregation at the last transformer layer (you get the same number of tokens out that you give in input). To use a pre-trained model for a classification or retrieval task, you should aggregate these tokens somehow (or opportunistically select *one* to use).\n",
    "\n",
    "+ BERT models (including DistillBERT) have a special [CLS] token prepended to each latent representation in output from a self-attention block. You can directly use this as a representation for classification (or retrieval).\n",
    "\n",
    "+ The first *two* exercises below can probably be done *without* any fine-tuning -- that is, just training a shallow MLP to classify or represent with the appropriate loss function.\n",
    "\n",
    "## Exercise 3.1: Training a Text Classifier (easy)\n",
    "\n",
    "Peruse the [text classification datasets on Hugging Face](https://huggingface.co/datasets?task_categories=task_categories:text-classification&sort=downloads). Choose a *moderately* sized dataset and use a LLM to train a classifier to solve the problem.\n",
    "\n",
    "**Note**: A good first baseline for this problem is certainly to use an LLM *exclusively* as a feature extractor and then train a shallow model."
   ]
  },
  {
   "attachments": {},
   "cell_type": "markdown",
   "id": "d66740a8",
   "metadata": {},
   "source": [
    "### Irony detection on tweet-eval\n",
    "\n",
    "[![WandB report](https://img.shields.io/badge/Weights_&_Biases-FFCC33?style=plastic&logo=WeightsAndBiases&logoColor=black)]()\n",
    "\n",
    "Humor is a difficult concept. GPT-4 can [explain jokes](./images/gpt4-jokes.png), even if it takes all the fun out of them in the process.\n",
    "\n",
    "Let's see if we can train a simple model to detect ironic tweets. We will use the [tweet-eval irony susbset](https://huggingface.co/datasets/tweet_eval/viewer/irony/train?p=0) from 🤗 Datasets.\n",
    "\n",
    "This dataset is already split into train, validation and test sets, with 2.86k training samples, 784 validation samples and 955 test samples. Each sample is a tweet with a label indicating whether the tweet is ironic or not.\n",
    "\n",
    "The dataset is already preprocessed, stripping out mentions and URLs. Emojis are kept as tokens.\n",
    "\n",
    "We will use the `distilbert-base-uncased` model, which is a smaller version of the BERT model. We will use the 🤗 Transformers library to load the model and the tokenizer."
   ]
  },
  {
   "cell_type": "code",
   "execution_count": 2,
   "id": "181cf7c4",
   "metadata": {},
   "outputs": [
    {
     "name": "stderr",
     "output_type": "stream",
     "text": [
      "Found cached dataset tweet_eval (C:/Users/Dario/.cache/huggingface/datasets/tweet_eval/irony/1.1.0/12aee5282b8784f3e95459466db4cdf45c6bf49719c25cdb0743d71ed0410343)\n"
     ]
    },
    {
     "data": {
      "application/vnd.jupyter.widget-view+json": {
       "model_id": "ff691353d42a4ed4a820feac900b4aec",
       "version_major": 2,
       "version_minor": 0
      },
      "text/plain": [
       "  0%|          | 0/3 [00:00<?, ?it/s]"
      ]
     },
     "metadata": {},
     "output_type": "display_data"
    },
    {
     "name": "stdout",
     "output_type": "stream",
     "text": [
      "{'text': 'seeing ppl walking w/ crutches makes me really excited for the next 3 weeks of my life', 'label': 1}\n"
     ]
    }
   ],
   "source": [
    "from datasets import load_dataset\n",
    "\n",
    "dataset = load_dataset('tweet_eval', 'irony')\n",
    "\n",
    "train_data = dataset['train']\n",
    "val_data = dataset['validation']\n",
    "test_data = dataset['test']\n",
    "\n",
    "BATCH_SIZE = 32\n",
    "\n",
    "print(train_data[0])"
   ]
  },
  {
   "attachments": {},
   "cell_type": "markdown",
   "id": "30746e44",
   "metadata": {},
   "source": [
    "It is useful to know some rough statistics about the length of each sentence in the dataset, in order to choose the maximum length of the input sequence for the tokenizer, and evaluate if we need to truncate some sentences.\n",
    "In this case, the maximum length is 177 words, but the mean is 14, and by setting the maximum length to 30 we can cover 95% of the sentences without truncation, while lowering a bit the memory usage."
   ]
  },
  {
   "cell_type": "code",
   "execution_count": 3,
   "id": "895bba62",
   "metadata": {},
   "outputs": [
    {
     "name": "stdout",
     "output_type": "stream",
     "text": [
      "Max length: 177\n",
      "Min length: 1\n",
      "Mean length: 13.732884155618343\n",
      "Standard deviation: 6.379859818821617\n"
     ]
    }
   ],
   "source": [
    "all_lengths = []\n",
    "\n",
    "for split in [train_data, val_data, test_data]:\n",
    "    for item in split:\n",
    "        all_lengths.append(len(item['text'].split()))\n",
    "\n",
    "print(f\"Max length: {max(all_lengths)}\")\n",
    "print(f\"Min length: {min(all_lengths)}\")\n",
    "print(f\"Mean length: {sum(all_lengths) / len(all_lengths)}\")\n",
    "print(f\"Standard deviation: {np.std(all_lengths)}\")"
   ]
  },
  {
   "cell_type": "code",
   "execution_count": 4,
   "id": "2299b732",
   "metadata": {},
   "outputs": [
    {
     "name": "stderr",
     "output_type": "stream",
     "text": [
      "Found cached dataset tweet_eval (C:/Users/Dario/.cache/huggingface/datasets/tweet_eval/irony/1.1.0/12aee5282b8784f3e95459466db4cdf45c6bf49719c25cdb0743d71ed0410343)\n"
     ]
    },
    {
     "data": {
      "application/vnd.jupyter.widget-view+json": {
       "model_id": "eec97ac21f434e5b9d83bf3e9943a093",
       "version_major": 2,
       "version_minor": 0
      },
      "text/plain": [
       "  0%|          | 0/3 [00:00<?, ?it/s]"
      ]
     },
     "metadata": {},
     "output_type": "display_data"
    },
    {
     "name": "stderr",
     "output_type": "stream",
     "text": [
      "Found cached dataset tweet_eval (C:/Users/Dario/.cache/huggingface/datasets/tweet_eval/irony/1.1.0/12aee5282b8784f3e95459466db4cdf45c6bf49719c25cdb0743d71ed0410343)\n"
     ]
    },
    {
     "data": {
      "application/vnd.jupyter.widget-view+json": {
       "model_id": "df20b971e0ce42c3b6dd9f1aff19f6e1",
       "version_major": 2,
       "version_minor": 0
      },
      "text/plain": [
       "  0%|          | 0/3 [00:00<?, ?it/s]"
      ]
     },
     "metadata": {},
     "output_type": "display_data"
    },
    {
     "name": "stderr",
     "output_type": "stream",
     "text": [
      "Loading cached processed dataset at C:\\Users\\Dario\\.cache\\huggingface\\datasets\\tweet_eval\\irony\\1.1.0\\12aee5282b8784f3e95459466db4cdf45c6bf49719c25cdb0743d71ed0410343\\cache-27298fa162cbec90.arrow\n",
      "Loading cached processed dataset at C:\\Users\\Dario\\.cache\\huggingface\\datasets\\tweet_eval\\irony\\1.1.0\\12aee5282b8784f3e95459466db4cdf45c6bf49719c25cdb0743d71ed0410343\\cache-cba6f32e375d5951.arrow\n"
     ]
    },
    {
     "data": {
      "application/vnd.jupyter.widget-view+json": {
       "model_id": "54e08d4357eb485581788ad3aa9ce712",
       "version_major": 2,
       "version_minor": 0
      },
      "text/plain": [
       "Map:   0%|          | 0/955 [00:00<?, ? examples/s]"
      ]
     },
     "metadata": {},
     "output_type": "display_data"
    },
    {
     "name": "stderr",
     "output_type": "stream",
     "text": [
      "c:\\Users\\Dario\\mambaforge\\envs\\nlp\\lib\\site-packages\\transformers\\tokenization_utils_base.py:2354: FutureWarning: The `pad_to_max_length` argument is deprecated and will be removed in a future version, use `padding=True` or `padding='longest'` to pad to the longest sequence in the batch, or use `padding='max_length'` to pad to a max length. In this case, you can give a specific length with `max_length` (e.g. `max_length=45`) or leave max_length to None to pad to the maximal input size of the model (e.g. 512 for Bert).\n",
      "  warnings.warn(\n"
     ]
    }
   ],
   "source": [
    "from data_loader import TweetEvalDataModule\n",
    "\n",
    "te_dm = TweetEvalDataModule(model_name_or_path=\"distilbert-base-uncased\", task_name=\"irony\",max_seq_length=30, train_batch_size=BATCH_SIZE, eval_batch_size=BATCH_SIZE)\n",
    "\n",
    "te_dm.prepare_data()\n",
    "te_dm.setup(\"fit\")\n",
    "\n",
    "te_train_dl,te_val_dl = te_dm.train_dataloader(),te_dm.val_dataloader()"
   ]
  },
  {
   "attachments": {},
   "cell_type": "markdown",
   "id": "08e2a7d2",
   "metadata": {},
   "source": [
    "### Model\n",
    "\n",
    "We employed a pre-trained [DistilBERT](https://arxiv.org/pdf/1910.01108.pdf) model from HuggingFace's Transformers library.\n",
    "DistilBERT is a distilled version of BERT, with 40% less parameters than BERT-base, and runs 60% faster while preserving over 95% of BERT's performances, mneasuered on GLUE language understanding benchmark. \n",
    "We will use this model as a feature extractor, and we will train a shallow MLP to perform a classification task."
   ]
  },
  {
   "cell_type": "code",
   "execution_count": 5,
   "id": "ceab1f31",
   "metadata": {},
   "outputs": [
    {
     "name": "stderr",
     "output_type": "stream",
     "text": [
      "Some weights of the model checkpoint at distilbert-base-uncased were not used when initializing DistilBertModel: ['vocab_transform.weight', 'vocab_layer_norm.bias', 'vocab_transform.bias', 'vocab_projector.bias', 'vocab_layer_norm.weight', 'vocab_projector.weight']\n",
      "- This IS expected if you are initializing DistilBertModel from the checkpoint of a model trained on another task or with another architecture (e.g. initializing a BertForSequenceClassification model from a BertForPreTraining model).\n",
      "- This IS NOT expected if you are initializing DistilBertModel from the checkpoint of a model that you expect to be exactly identical (initializing a BertForSequenceClassification model from a BertForSequenceClassification model).\n"
     ]
    }
   ],
   "source": [
    "from transformers import AutoModel\n",
    "model = AutoModel.from_pretrained(\"distilbert-base-uncased\")"
   ]
  },
  {
   "cell_type": "code",
   "execution_count": 6,
   "id": "a86603ce",
   "metadata": {},
   "outputs": [
    {
     "name": "stderr",
     "output_type": "stream",
     "text": [
      "You're using a DistilBertTokenizerFast tokenizer. Please note that with a fast tokenizer, using the `__call__` method is faster than using a method to encode the text followed by a call to the `pad` method to get a padded encoding.\n"
     ]
    },
    {
     "name": "stdout",
     "output_type": "stream",
     "text": [
      "{'input_ids': torch.Size([32, 30]), 'attention_mask': torch.Size([32, 30]), 'label': torch.Size([32])}\n"
     ]
    }
   ],
   "source": [
    "for batch in te_train_dl:\n",
    "    batch = {k:v.squeeze() for k,v in batch.items()}\n",
    "    print({k:v.shape for k,v in batch.items()})\n",
    "    label = batch.pop(\"label\")\n",
    "\n",
    "    out = model(**batch)\n",
    "    break"
   ]
  },
  {
   "cell_type": "code",
   "execution_count": 3,
   "id": "a642126d",
   "metadata": {},
   "outputs": [],
   "source": [
    "dm = FeatureDataModule('./data','tweet_eval',BATCH_SIZE,num_workers=6,pin_memory=True)\n",
    "\n",
    "dm.prepare_data()\n",
    "dm.setup(\"fit\")\n",
    "\n",
    "train_dl,valid_dl = dm.train_dataloader(), dm.val_dataloader()"
   ]
  },
  {
   "cell_type": "code",
   "execution_count": 4,
   "id": "e764ed01",
   "metadata": {},
   "outputs": [
    {
     "name": "stderr",
     "output_type": "stream",
     "text": [
      "GPU available: True (cuda), used: True\n",
      "TPU available: False, using: 0 TPU cores\n",
      "IPU available: False, using: 0 IPUs\n",
      "HPU available: False, using: 0 HPUs\n",
      "LOCAL_RANK: 0 - CUDA_VISIBLE_DEVICES: [0]\n",
      "\n",
      "  | Name       | Type           | Params\n",
      "----------------------------------------------\n",
      "0 | classifier | Sequential     | 197 K \n",
      "1 | criterion  | BCELoss        | 0     \n",
      "2 | train_acc  | BinaryAccuracy | 0     \n",
      "3 | valid_acc  | BinaryAccuracy | 0     \n",
      "----------------------------------------------\n",
      "197 K     Trainable params\n",
      "0         Non-trainable params\n",
      "197 K     Total params\n",
      "0.788     Total estimated model params size (MB)\n"
     ]
    },
    {
     "data": {
      "application/vnd.jupyter.widget-view+json": {
       "model_id": "c6ff14f315f44ceb8366cc4876a22252",
       "version_major": 2,
       "version_minor": 0
      },
      "text/plain": [
       "Sanity Checking: 0it [00:00, ?it/s]"
      ]
     },
     "metadata": {},
     "output_type": "display_data"
    },
    {
     "data": {
      "application/vnd.jupyter.widget-view+json": {
       "model_id": "afe58020ff584f7891febf72192df1ad",
       "version_major": 2,
       "version_minor": 0
      },
      "text/plain": [
       "Training: 0it [00:00, ?it/s]"
      ]
     },
     "metadata": {},
     "output_type": "display_data"
    },
    {
     "data": {
      "application/vnd.jupyter.widget-view+json": {
       "model_id": "d8e44c456a6643a181b9b2c6b333a4e8",
       "version_major": 2,
       "version_minor": 0
      },
      "text/plain": [
       "Validation: 0it [00:00, ?it/s]"
      ]
     },
     "metadata": {},
     "output_type": "display_data"
    },
    {
     "data": {
      "application/vnd.jupyter.widget-view+json": {
       "model_id": "68200fb523a14e72b90540f5dd284cc3",
       "version_major": 2,
       "version_minor": 0
      },
      "text/plain": [
       "Validation: 0it [00:00, ?it/s]"
      ]
     },
     "metadata": {},
     "output_type": "display_data"
    },
    {
     "data": {
      "application/vnd.jupyter.widget-view+json": {
       "model_id": "17fdcb0f63b94b0a854763103fff50aa",
       "version_major": 2,
       "version_minor": 0
      },
      "text/plain": [
       "Validation: 0it [00:00, ?it/s]"
      ]
     },
     "metadata": {},
     "output_type": "display_data"
    },
    {
     "data": {
      "application/vnd.jupyter.widget-view+json": {
       "model_id": "085480c36b804df48b607cfbef8dfb38",
       "version_major": 2,
       "version_minor": 0
      },
      "text/plain": [
       "Validation: 0it [00:00, ?it/s]"
      ]
     },
     "metadata": {},
     "output_type": "display_data"
    },
    {
     "data": {
      "application/vnd.jupyter.widget-view+json": {
       "model_id": "ebf9cdaaf2ad4300ba643bcf26aa3415",
       "version_major": 2,
       "version_minor": 0
      },
      "text/plain": [
       "Validation: 0it [00:00, ?it/s]"
      ]
     },
     "metadata": {},
     "output_type": "display_data"
    },
    {
     "data": {
      "application/vnd.jupyter.widget-view+json": {
       "model_id": "5668c809fbd740ea98a1285fe3f85c56",
       "version_major": 2,
       "version_minor": 0
      },
      "text/plain": [
       "Validation: 0it [00:00, ?it/s]"
      ]
     },
     "metadata": {},
     "output_type": "display_data"
    },
    {
     "data": {
      "application/vnd.jupyter.widget-view+json": {
       "model_id": "4cae662787d943f799232e376b4b0501",
       "version_major": 2,
       "version_minor": 0
      },
      "text/plain": [
       "Validation: 0it [00:00, ?it/s]"
      ]
     },
     "metadata": {},
     "output_type": "display_data"
    },
    {
     "data": {
      "application/vnd.jupyter.widget-view+json": {
       "model_id": "e8aa08f301744b8799f3f69b12cb7808",
       "version_major": 2,
       "version_minor": 0
      },
      "text/plain": [
       "Validation: 0it [00:00, ?it/s]"
      ]
     },
     "metadata": {},
     "output_type": "display_data"
    },
    {
     "data": {
      "application/vnd.jupyter.widget-view+json": {
       "model_id": "fd830ee857294eeb8580ac5b57cd4323",
       "version_major": 2,
       "version_minor": 0
      },
      "text/plain": [
       "Validation: 0it [00:00, ?it/s]"
      ]
     },
     "metadata": {},
     "output_type": "display_data"
    },
    {
     "data": {
      "application/vnd.jupyter.widget-view+json": {
       "model_id": "92245b0109d54091bbbaacb0e4c91252",
       "version_major": 2,
       "version_minor": 0
      },
      "text/plain": [
       "Validation: 0it [00:00, ?it/s]"
      ]
     },
     "metadata": {},
     "output_type": "display_data"
    },
    {
     "data": {
      "application/vnd.jupyter.widget-view+json": {
       "model_id": "20628e8d48eb484f877abf6bff1fd260",
       "version_major": 2,
       "version_minor": 0
      },
      "text/plain": [
       "Validation: 0it [00:00, ?it/s]"
      ]
     },
     "metadata": {},
     "output_type": "display_data"
    },
    {
     "data": {
      "application/vnd.jupyter.widget-view+json": {
       "model_id": "bfafb292ef8b45468ace49864677e54f",
       "version_major": 2,
       "version_minor": 0
      },
      "text/plain": [
       "Validation: 0it [00:00, ?it/s]"
      ]
     },
     "metadata": {},
     "output_type": "display_data"
    },
    {
     "data": {
      "application/vnd.jupyter.widget-view+json": {
       "model_id": "a5ffeff5d3e947f780a42891b6bbc66d",
       "version_major": 2,
       "version_minor": 0
      },
      "text/plain": [
       "Validation: 0it [00:00, ?it/s]"
      ]
     },
     "metadata": {},
     "output_type": "display_data"
    },
    {
     "data": {
      "application/vnd.jupyter.widget-view+json": {
       "model_id": "638a47d09e3142cc87c2a4871e166864",
       "version_major": 2,
       "version_minor": 0
      },
      "text/plain": [
       "Validation: 0it [00:00, ?it/s]"
      ]
     },
     "metadata": {},
     "output_type": "display_data"
    },
    {
     "data": {
      "application/vnd.jupyter.widget-view+json": {
       "model_id": "1b5e14608c2d43438af31f44f235e7b8",
       "version_major": 2,
       "version_minor": 0
      },
      "text/plain": [
       "Validation: 0it [00:00, ?it/s]"
      ]
     },
     "metadata": {},
     "output_type": "display_data"
    },
    {
     "data": {
      "application/vnd.jupyter.widget-view+json": {
       "model_id": "32e467ec8b5b426fb92e4a04cf48d216",
       "version_major": 2,
       "version_minor": 0
      },
      "text/plain": [
       "Validation: 0it [00:00, ?it/s]"
      ]
     },
     "metadata": {},
     "output_type": "display_data"
    },
    {
     "data": {
      "application/vnd.jupyter.widget-view+json": {
       "model_id": "28d131adbec143e1aed8b00f603effbf",
       "version_major": 2,
       "version_minor": 0
      },
      "text/plain": [
       "Validation: 0it [00:00, ?it/s]"
      ]
     },
     "metadata": {},
     "output_type": "display_data"
    },
    {
     "data": {
      "application/vnd.jupyter.widget-view+json": {
       "model_id": "b173f040595941e09bea542c346668d3",
       "version_major": 2,
       "version_minor": 0
      },
      "text/plain": [
       "Validation: 0it [00:00, ?it/s]"
      ]
     },
     "metadata": {},
     "output_type": "display_data"
    },
    {
     "data": {
      "application/vnd.jupyter.widget-view+json": {
       "model_id": "e023b312975b4e6aafc8aa7dea50e8fa",
       "version_major": 2,
       "version_minor": 0
      },
      "text/plain": [
       "Validation: 0it [00:00, ?it/s]"
      ]
     },
     "metadata": {},
     "output_type": "display_data"
    },
    {
     "data": {
      "application/vnd.jupyter.widget-view+json": {
       "model_id": "92b1a22fa53c4d5e83ab08e5a8719747",
       "version_major": 2,
       "version_minor": 0
      },
      "text/plain": [
       "Validation: 0it [00:00, ?it/s]"
      ]
     },
     "metadata": {},
     "output_type": "display_data"
    },
    {
     "name": "stderr",
     "output_type": "stream",
     "text": [
      "`Trainer.fit` stopped: `max_epochs=20` reached.\n"
     ]
    }
   ],
   "source": [
    "from models import MLP\n",
    "\n",
    "LEARNING_RATE = 1e-3\n",
    "CRITERION = \"BCELoss\"\n",
    "EPOCHS = 20\n",
    "\n",
    "model = MLP(num_classes=1,input_size=768,hidden_size=256,criterion=CRITERION,learning_rate=LEARNING_RATE)\n",
    "\n",
    "from lightning import Trainer\n",
    "trainer = Trainer(max_epochs=EPOCHS, devices=1, logger=False,enable_checkpointing=False)\n",
    "trainer.fit(model, train_dl, valid_dl)"
   ]
  },
  {
   "attachments": {},
   "cell_type": "markdown",
   "id": "efedf1a2",
   "metadata": {},
   "source": [
    "## Exercise 3.2: Training a Question Answering Model (harder)\n",
    "\n",
    "Peruse the [multiple choice question answering datasets on Hugging Face](https://huggingface.co/datasets?task_categories=task_categories:multiple-choice&sort=downloads). Chose a *moderately* sized one and train a model to answer contextualized multiple-choice questions. You *might* be able to avoid fine-tuning by training a simple model to *rank* the multiple choices (see margin ranking loss in Pytorch).\n",
    "\n",
    "### SWAG Dataset\n",
    "\n",
    "[![WandB report](https://img.shields.io/badge/Weights_&_Biases-FFCC33?style=plastic&logo=WeightsAndBiases&logoColor=black)](https://api.wandb.ai/links/dla-darcio/25op1oeh)\n",
    "\n",
    "We chose the [SWAG](https://huggingface.co/datasets/swag) dataset for this task.\n",
    "\n",
    "The dataset is composed by 113k passages(73k training, 20k validation, 20k test),with four answer choices about what might happen next in the scene. The correct answer is the (real) video caption for the next event in the video; the three incorrect answers are adversarially generated and human verified, so as to fool machines but not humans. SWAG aims to be a benchmark for evaluating grounded commonsense NLI and for learning representations. \n",
    "\n",
    "<!-- Another dataset I explored is [RACE](https://huggingface.co/datasets/race) dataset. -->\n",
    "<!-- The dataset is composed by 28K passages, and nearly 100K questions collected from English examinations in China, designed for middle and high school students. -->\n",
    "\n"
   ]
  },
  {
   "cell_type": "code",
   "execution_count": 2,
   "id": "cc0a832b",
   "metadata": {
    "ExecuteTime": {
     "end_time": "2023-06-18T20:03:10.496800500Z",
     "start_time": "2023-06-18T20:03:05.426801200Z"
    },
    "collapsed": false
   },
   "outputs": [
    {
     "name": "stderr",
     "output_type": "stream",
     "text": [
      "Found cached dataset swag (C:/Users/Dario/.cache/huggingface/datasets/swag/regular/0.0.0/9640de08cdba6a1469ed3834fcab4b8ad8e38caf5d1ba5e7436d8b1fd067ad4c)\n"
     ]
    },
    {
     "data": {
      "application/vnd.jupyter.widget-view+json": {
       "model_id": "bbb1a65c6a87451881b818020dc03992",
       "version_major": 2,
       "version_minor": 0
      },
      "text/plain": [
       "  0%|          | 0/3 [00:00<?, ?it/s]"
      ]
     },
     "metadata": {},
     "output_type": "display_data"
    }
   ],
   "source": [
    "from datasets import load_dataset\n",
    "\n",
    "dataset = load_dataset(\"swag\",\"regular\")\n",
    "\n",
    "# hyperparameters\n",
    "BATCH_SIZE = 32"
   ]
  },
  {
   "attachments": {},
   "cell_type": "markdown",
   "id": "b15a5f41",
   "metadata": {},
   "source": [
    "\n",
    "Each sample is composed by a complete sentence, the start of the next sentence and four possible continuations. Only one of them is the right one."
   ]
  },
  {
   "cell_type": "code",
   "execution_count": 2,
   "id": "e670de79",
   "metadata": {},
   "outputs": [
    {
     "name": "stdout",
     "output_type": "stream",
     "text": [
      "Train dataset length: 73546\n"
     ]
    }
   ],
   "source": [
    "train_data = dataset['train']\n",
    "val_data = dataset['validation']\n",
    "print(\"Train dataset length:\", len(train_data))"
   ]
  },
  {
   "attachments": {},
   "cell_type": "markdown",
   "id": "cee5f0c9",
   "metadata": {},
   "source": [
    "Let's print an example from the training set."
   ]
  },
  {
   "cell_type": "code",
   "execution_count": 3,
   "id": "29444101",
   "metadata": {
    "ExecuteTime": {
     "end_time": "2023-06-17T18:17:28.075097300Z",
     "start_time": "2023-06-17T18:17:28.055103600Z"
    },
    "collapsed": false
   },
   "outputs": [
    {
     "name": "stdout",
     "output_type": "stream",
     "text": [
      "CONTEXT: Students lower their eyes nervously. She\n",
      "ENDING: 0: pats her shoulder, then saunters toward someone.\n",
      "ENDING: 1: turns with two students.\n",
      "ENDING: 2: walks slowly towards someone.\n",
      "ENDING: 3: wheels around as her dog thunders out.\n",
      "CORRECT: 2\n"
     ]
    }
   ],
   "source": [
    "endings = ['ending0', 'ending1', 'ending2', 'ending3']\n",
    "row = val_data[0]\n",
    "# print(row)\n",
    "print(f\"CONTEXT: {row['startphrase']}\")\n",
    "for i, c in enumerate(endings):\n",
    "    print(f\"ENDING: {i}: {row[c]}\")\n",
    "print(f\"CORRECT: {row['label']}\")"
   ]
  },
  {
   "attachments": {},
   "cell_type": "markdown",
   "id": "620c148e",
   "metadata": {},
   "source": [
    "As done in the previous exercise, let's see some statistics about the length of the sentences in the dataset. The maximum length is 101 words, but the mean is 14, and by setting again the maximum length to 30 we can cover 95% of the sentences without truncation, while lowering a bit the memory usage."
   ]
  },
  {
   "cell_type": "code",
   "execution_count": 4,
   "id": "2a5a7052",
   "metadata": {},
   "outputs": [
    {
     "name": "stdout",
     "output_type": "stream",
     "text": [
      "Average length of startphrase: 14.06\n",
      "Standard deviation of startphrase: 6.74\n",
      "Max length of startphrase: 101\n",
      "Min length of startphrase: 4\n"
     ]
    },
    {
     "data": {
      "image/png": "[encoded data removed]",
      "text/plain": [
       "<Figure size 640x480 with 1 Axes>"
      ]
     },
     "metadata": {},
     "output_type": "display_data"
    }
   ],
   "source": [
    "import numpy as np\n",
    "lengths = list(map(lambda x: len(x.split()),train_data['startphrase']))\n",
    "print(f\"Average length of startphrase: {np.mean(lengths):.2f}\")\n",
    "print(f\"Standard deviation of startphrase: {np.std(lengths):.2f}\")\n",
    "print(\"Max length of startphrase:\", np.max(lengths))\n",
    "print(\"Min length of startphrase:\", np.min(lengths))\n",
    "\n",
    "\n",
    "import matplotlib.pyplot as plt\n",
    "plt.hist(lengths, bins=20)\n",
    "plt.xlabel(\"Number of words\")\n",
    "plt.ylabel(\"Number of examples\")\n",
    "plt.title(\"Distribution of example lengths in the SWAG dataset\")\n",
    "plt.show()"
   ]
  },
  {
   "attachments": {},
   "cell_type": "markdown",
   "id": "62fdb012",
   "metadata": {},
   "source": [
    "### Preprocessing\n",
    "\n",
    "To feed these samples to a model, we need to find an efficient encoding of the sentences. \n",
    "Our preprocessing pipeline will be composed by two steps:\n",
    "\n",
    "1. Sentence construction: we will build sentence pairs formed by `sent1` and the concatenation of `sent2` and each of the four possible continuations. This means that we will obtain four difference sentence pairs for each sample.\n",
    "\n",
    "2. Tokenization: we will encode each sentence pair using the tokenizer provided by the model. Between the two sentences we will add a special token `[SEP]`, which is used by the model to distinguish between the two sentences. We will also have a special token `[CLS]` at the beginning of the first sentence, which contains the representation of the entire sentence pair. To build batches, we will pad each sample to the maximum length of the batch, adding the special token `[PAD]`.\n",
    "\n",
    "### ⚡Lightning DataModules \n",
    "\n",
    "To keep code tidy and improve experiment repeatability, I used⚡Lightning's `LightningDataModule` to define the dataset, perform  preprocessing and the dataloaders. \n",
    "The `prepare_data` method is used to download the dataset and the Tokenizer, while the `setup` method is used to split the dataset into train, validation and test sets and perform preprocessing, tokenization and encoding.\n",
    "\n",
    "The processed dataset is composed by the following fields:\n",
    "- `input_ids`: tokenized and encoded text (context + question + options)\n",
    "- `attention_mask`: attention mask to avoid performing attention on padding tokens\n",
    "- `label`: index of the correct answer"
   ]
  },
  {
   "cell_type": "code",
   "execution_count": 25,
   "id": "f829898e",
   "metadata": {
    "ExecuteTime": {
     "end_time": "2023-06-27T21:33:10.210195900Z",
     "start_time": "2023-06-27T21:33:09.809196500Z"
    },
    "collapsed": false
   },
   "outputs": [
    {
     "name": "stderr",
     "output_type": "stream",
     "text": [
      "Found cached dataset swag (C:/Users/Dario/.cache/huggingface/datasets/swag/regular/0.0.0/9640de08cdba6a1469ed3834fcab4b8ad8e38caf5d1ba5e7436d8b1fd067ad4c)\n"
     ]
    },
    {
     "data": {
      "application/vnd.jupyter.widget-view+json": {
       "model_id": "95cb514d71294a7abfbe78f28a812a46",
       "version_major": 2,
       "version_minor": 0
      },
      "text/plain": [
       "  0%|          | 0/3 [00:00<?, ?it/s]"
      ]
     },
     "metadata": {},
     "output_type": "display_data"
    },
    {
     "name": "stderr",
     "output_type": "stream",
     "text": [
      "Found cached dataset swag (C:/Users/Dario/.cache/huggingface/datasets/swag/regular/0.0.0/9640de08cdba6a1469ed3834fcab4b8ad8e38caf5d1ba5e7436d8b1fd067ad4c)\n"
     ]
    },
    {
     "data": {
      "application/vnd.jupyter.widget-view+json": {
       "model_id": "5a26b97713f64593a4cf91fe46f3ab33",
       "version_major": 2,
       "version_minor": 0
      },
      "text/plain": [
       "  0%|          | 0/3 [00:00<?, ?it/s]"
      ]
     },
     "metadata": {},
     "output_type": "display_data"
    },
    {
     "data": {
      "application/vnd.jupyter.widget-view+json": {
       "model_id": "ee38a0689cd74691bcf7262877998bfc",
       "version_major": 2,
       "version_minor": 0
      },
      "text/plain": [
       "Map:   0%|          | 0/73546 [00:00<?, ? examples/s]"
      ]
     },
     "metadata": {},
     "output_type": "display_data"
    },
    {
     "name": "stderr",
     "output_type": "stream",
     "text": [
      "c:\\Users\\Dario\\mambaforge\\envs\\nlp\\lib\\site-packages\\transformers\\tokenization_utils_base.py:2354: FutureWarning: The `pad_to_max_length` argument is deprecated and will be removed in a future version, use `padding=True` or `padding='longest'` to pad to the longest sequence in the batch, or use `padding='max_length'` to pad to a max length. In this case, you can give a specific length with `max_length` (e.g. `max_length=45`) or leave max_length to None to pad to the maximal input size of the model (e.g. 512 for Bert).\n",
      "  warnings.warn(\n"
     ]
    },
    {
     "data": {
      "application/vnd.jupyter.widget-view+json": {
       "model_id": "37964931af604286b80bdfedf5125fe2",
       "version_major": 2,
       "version_minor": 0
      },
      "text/plain": [
       "Map:   0%|          | 0/20006 [00:00<?, ? examples/s]"
      ]
     },
     "metadata": {},
     "output_type": "display_data"
    },
    {
     "data": {
      "application/vnd.jupyter.widget-view+json": {
       "model_id": "64923b44475646ba8c27c43f1ea708b1",
       "version_major": 2,
       "version_minor": 0
      },
      "text/plain": [
       "Map:   0%|          | 0/20005 [00:00<?, ? examples/s]"
      ]
     },
     "metadata": {},
     "output_type": "display_data"
    }
   ],
   "source": [
    "swag_dm = SWAGDataModule(\"distilbert-base-uncased\",\"regular\",30,BATCH_SIZE,BATCH_SIZE)\n",
    "swag_dm.prepare_data()\n",
    "swag_dm.setup(\"fit\")\n",
    "\n",
    "swag_train_dl,swag_valid_dl = swag_dm.train_dataloader(), swag_dm.val_dataloader()"
   ]
  },
  {
   "cell_type": "code",
   "execution_count": 29,
   "id": "c44f8219",
   "metadata": {
    "ExecuteTime": {
     "start_time": "2023-06-27T21:33:10.207199400Z"
    },
    "collapsed": false
   },
   "outputs": [
    {
     "name": "stderr",
     "output_type": "stream",
     "text": [
      "You're using a DistilBertTokenizerFast tokenizer. Please note that with a fast tokenizer, using the `__call__` method is faster than using a method to encode the text followed by a call to the `pad` method to get a padded encoding.\n"
     ]
    },
    {
     "name": "stdout",
     "output_type": "stream",
     "text": [
      "input_ids torch.Size([32, 4, 30])\n",
      "attention_mask torch.Size([32, 4, 30])\n",
      "label torch.Size([32])\n",
      "[CLS] a man is in a bike shop and stand next to a bike while talking. [SEP] the man begins working out on his bike. [SEP] [PAD] [PAD]\n"
     ]
    }
   ],
   "source": [
    "for row in swag_valid_dl:\n",
    "    for k,v in row.items():\n",
    "        print(k,v.shape)\n",
    "\n",
    "    input_ids = row['input_ids']\n",
    "    attention_mask = row['attention_mask']\n",
    "    labels = row.pop(\"label\")\n",
    "\n",
    "    print(swag_dm.tokenizer.decode(input_ids[4,3,:]))\n",
    "    break"
   ]
  },
  {
   "attachments": {},
   "cell_type": "markdown",
   "id": "07550eb0",
   "metadata": {
    "collapsed": false
   },
   "source": [
    "### Model\n",
    "\n",
    "As in previous exercise, we will use the DistilBERT model. One possible issue is that DistilBERT was not trained on the Next Sentence Prediction task during the distillation process, but it was shown in [RoBERTa](https://arxiv.org/pdf/1907.11692.pdf) paper that this task may not be necessary for Natural Language Inference tasks.\n",
    "\n",
    "The MLP used for the downstream task is composed by two linear layers with ReLU activation and dropout. Since DistilBERT's hidden size is 768,  The first layer will have 768 input units and $d$ output units, while the second layer has $d$ input units and 1 output unit, with $d$ being a hyperparameter.\n",
    "We chose $d=256$ in our experiments.\n",
    "\n"
   ]
  },
  {
   "attachments": {},
   "cell_type": "markdown",
   "id": "6adf4dff",
   "metadata": {},
   "source": [
    "### Feature extraction\n",
    "\n",
    "The output of the model is the computed hidden state, a 768-dimensional vector for each token in the input sequence. We will use the pooled representation, available in the initial `[CLS]` token as a representation of the entire input sequence. \n",
    "The pooled representation is computed by averaging the hidden states of the last four layers of the model by default.\n",
    "\n",
    "We will pre-compute the hidden state for each sample in the dataset, and store in a file. This will speed up the training process, since we will not need to compute the hidden state for each sample at each epoch.\n",
    "The pre-computed hidden states (1GB) and are available at this [link](https://drive.google.com/drive/folders/1vjHMx2viF16B2NrA7WKOPV8GbQb9s-M8?usp=sharing) \n",
    "\n",
    "You can re-compute the hidden states by running the following command:\n",
    "\n",
    "```bash\n",
    "python extract_features.py --model_name_or_path distilbert-base-uncased --max_seq_length 32 --batch_size <YOUR_BATCH_SIZE(default=32)>\n",
    "```"
   ]
  },
  {
   "cell_type": "code",
   "execution_count": 31,
   "id": "c1f5d32a",
   "metadata": {},
   "outputs": [],
   "source": [
    "dm = FeatureDataModule('./data','swag',BATCH_SIZE,num_workers=6,pin_memory=True)\n",
    "\n",
    "dm.prepare_data()\n",
    "dm.setup(\"fit\")\n",
    "\n",
    "train_dl,valid_dl = dm.train_dataloader(), dm.val_dataloader()"
   ]
  },
  {
   "attachments": {},
   "cell_type": "markdown",
   "id": "dd814449",
   "metadata": {},
   "source": [
    "#### Classification setting \n",
    "\n",
    "The classifier is used to predict the probability of each answer choice to be the correct one. That mean that the model will evaluate the \"correctness\" of each value indipendently, without comparing the alternatives. \n",
    "The model is then trained with the cross entropy loss. I believe that this setting is simple, but it is harder to learn and to get a good performance.\n",
    "\n",
    "Surprisingly, this is the approach also used in the HuggingFace implementation `DistilBertForMultipleChoice`. If you're curious, you can find the code [here](https://github.com/huggingface/transformers/blob/04f46a22d8b5f38c8369b3d995df3102b8d56dcd/src/transformers/models/distilbert/modeling_distilbert.py#L1033). This approach may scale badly to a higher number of alternatives, since the model will need to compute the probability of each alternative independently."
   ]
  },
  {
   "attachments": {},
   "cell_type": "markdown",
   "id": "69a2a340",
   "metadata": {},
   "source": [
    "I define a custom dataset FeatureDataset to load the pre-computed hidden states and the labels. I suspect that the Dataloader approach is equivalent to split the tensor into batches and cycle through them, but I'll use the DataLoader approach."
   ]
  },
  {
   "attachments": {},
   "cell_type": "markdown",
   "id": "513609fc",
   "metadata": {},
   "source": [
    "An interesting alternative for classification could be to give to the MLP an input composed by the concatenation of the pooled representations of each alternative."
   ]
  },
  {
   "attachments": {},
   "cell_type": "markdown",
   "id": "b909965e",
   "metadata": {
    "collapsed": false
   },
   "source": [
    "### Margin ranking loss\n",
    "PyTorch's `MarginRankingLoss` is a loss function that aims to predict a relative distance between inputs. This task is called *Metric Learning*. It takes as input two inputs $x_1$ and $x_2$ and a label $y$ (containing 1 or -1).\n",
    "- If $y=1$ then $x_1$ should be ranked higher\n",
    "- Conversely, if $y=-1$ $x_2$ should have a higher value.\n",
    "\n",
    "The loss function is defined as follows:\n",
    "\n",
    "$$\\text{loss}(x_1, x_2, y) = \\max(0, -y * (x_1 - x_2) + \\text{margin})$$"
   ]
  },
  {
   "attachments": {},
   "cell_type": "markdown",
   "id": "ff74b901",
   "metadata": {
    "collapsed": false
   },
   "source": [
    "### Training\n"
   ]
  },
  {
   "attachments": {},
   "cell_type": "markdown",
   "id": "f24319ff",
   "metadata": {},
   "source": [
    "Training is performed by running the following script:\n",
    "\n",
    "```bash\n",
    "python main.py fit -c configs/YOUR_CONFIG_FILE.yaml\n",
    "```\n",
    "\n",
    "A list of configuration file is available in [configs](./configs/) folder.\n",
    "Alternatively, here's a simplified training snippet:"
   ]
  },
  {
   "cell_type": "code",
   "execution_count": 33,
   "id": "ae8dbc50",
   "metadata": {},
   "outputs": [
    {
     "name": "stderr",
     "output_type": "stream",
     "text": [
      "GPU available: True (cuda), used: True\n",
      "TPU available: False, using: 0 TPU cores\n",
      "IPU available: False, using: 0 IPUs\n",
      "HPU available: False, using: 0 HPUs\n",
      "LOCAL_RANK: 0 - CUDA_VISIBLE_DEVICES: [0]\n",
      "\n",
      "  | Name       | Type               | Params\n",
      "--------------------------------------------------\n",
      "0 | classifier | Sequential         | 197 K \n",
      "1 | criterion  | CrossEntropyLoss   | 0     \n",
      "2 | train_acc  | MulticlassAccuracy | 0     \n",
      "3 | valid_acc  | MulticlassAccuracy | 0     \n",
      "--------------------------------------------------\n",
      "197 K     Trainable params\n",
      "0         Non-trainable params\n",
      "197 K     Total params\n",
      "0.788     Total estimated model params size (MB)\n"
     ]
    },
    {
     "data": {
      "application/vnd.jupyter.widget-view+json": {
       "model_id": "6a471f4e641840c8b2a02d751f1431e4",
       "version_major": 2,
       "version_minor": 0
      },
      "text/plain": [
       "Sanity Checking: 0it [00:00, ?it/s]"
      ]
     },
     "metadata": {},
     "output_type": "display_data"
    },
    {
     "data": {
      "application/vnd.jupyter.widget-view+json": {
       "model_id": "c7e783850c584eb19902a9ae4a2a7833",
       "version_major": 2,
       "version_minor": 0
      },
      "text/plain": [
       "Training: 0it [00:00, ?it/s]"
      ]
     },
     "metadata": {},
     "output_type": "display_data"
    },
    {
     "data": {
      "application/vnd.jupyter.widget-view+json": {
       "model_id": "99fb1fce4b324843b4cb18c1363b2f1c",
       "version_major": 2,
       "version_minor": 0
      },
      "text/plain": [
       "Validation: 0it [00:00, ?it/s]"
      ]
     },
     "metadata": {},
     "output_type": "display_data"
    },
    {
     "data": {
      "application/vnd.jupyter.widget-view+json": {
       "model_id": "df06de2516f4442a99ea918c3449aae5",
       "version_major": 2,
       "version_minor": 0
      },
      "text/plain": [
       "Validation: 0it [00:00, ?it/s]"
      ]
     },
     "metadata": {},
     "output_type": "display_data"
    },
    {
     "data": {
      "application/vnd.jupyter.widget-view+json": {
       "model_id": "4d80616ff5754be8a898eca8d1abf86d",
       "version_major": 2,
       "version_minor": 0
      },
      "text/plain": [
       "Validation: 0it [00:00, ?it/s]"
      ]
     },
     "metadata": {},
     "output_type": "display_data"
    },
    {
     "data": {
      "application/vnd.jupyter.widget-view+json": {
       "model_id": "f2190b78470d4ee28dc28cf439f7dd42",
       "version_major": 2,
       "version_minor": 0
      },
      "text/plain": [
       "Validation: 0it [00:00, ?it/s]"
      ]
     },
     "metadata": {},
     "output_type": "display_data"
    },
    {
     "data": {
      "application/vnd.jupyter.widget-view+json": {
       "model_id": "4af9d557f72a482ea3ed94ed4fb5ccf5",
       "version_major": 2,
       "version_minor": 0
      },
      "text/plain": [
       "Validation: 0it [00:00, ?it/s]"
      ]
     },
     "metadata": {},
     "output_type": "display_data"
    },
    {
     "data": {
      "application/vnd.jupyter.widget-view+json": {
       "model_id": "24a5d9735fd34327991897fb0271ff75",
       "version_major": 2,
       "version_minor": 0
      },
      "text/plain": [
       "Validation: 0it [00:00, ?it/s]"
      ]
     },
     "metadata": {},
     "output_type": "display_data"
    },
    {
     "data": {
      "application/vnd.jupyter.widget-view+json": {
       "model_id": "0c1ad80f364e4d42a09e5d61ebf5f65c",
       "version_major": 2,
       "version_minor": 0
      },
      "text/plain": [
       "Validation: 0it [00:00, ?it/s]"
      ]
     },
     "metadata": {},
     "output_type": "display_data"
    },
    {
     "data": {
      "application/vnd.jupyter.widget-view+json": {
       "model_id": "f1fef3faf5bf4e1b9bbb8c0c398eb618",
       "version_major": 2,
       "version_minor": 0
      },
      "text/plain": [
       "Validation: 0it [00:00, ?it/s]"
      ]
     },
     "metadata": {},
     "output_type": "display_data"
    },
    {
     "data": {
      "application/vnd.jupyter.widget-view+json": {
       "model_id": "9166ae3de89940249ea6b8c1a4081bcf",
       "version_major": 2,
       "version_minor": 0
      },
      "text/plain": [
       "Validation: 0it [00:00, ?it/s]"
      ]
     },
     "metadata": {},
     "output_type": "display_data"
    },
    {
     "data": {
      "application/vnd.jupyter.widget-view+json": {
       "model_id": "ddf7d0dcf4d241df93e481a53d695d04",
       "version_major": 2,
       "version_minor": 0
      },
      "text/plain": [
       "Validation: 0it [00:00, ?it/s]"
      ]
     },
     "metadata": {},
     "output_type": "display_data"
    },
    {
     "data": {
      "application/vnd.jupyter.widget-view+json": {
       "model_id": "f6d313763a724b8b81af9b949d7c38cf",
       "version_major": 2,
       "version_minor": 0
      },
      "text/plain": [
       "Validation: 0it [00:00, ?it/s]"
      ]
     },
     "metadata": {},
     "output_type": "display_data"
    },
    {
     "data": {
      "application/vnd.jupyter.widget-view+json": {
       "model_id": "a3bdf96d6fd540c2913a364ad170a4b4",
       "version_major": 2,
       "version_minor": 0
      },
      "text/plain": [
       "Validation: 0it [00:00, ?it/s]"
      ]
     },
     "metadata": {},
     "output_type": "display_data"
    },
    {
     "data": {
      "application/vnd.jupyter.widget-view+json": {
       "model_id": "163d214907c84a9fb0312e3272ac2f6a",
       "version_major": 2,
       "version_minor": 0
      },
      "text/plain": [
       "Validation: 0it [00:00, ?it/s]"
      ]
     },
     "metadata": {},
     "output_type": "display_data"
    },
    {
     "data": {
      "application/vnd.jupyter.widget-view+json": {
       "model_id": "347c2cf7f75b43fc80ace6434de17744",
       "version_major": 2,
       "version_minor": 0
      },
      "text/plain": [
       "Validation: 0it [00:00, ?it/s]"
      ]
     },
     "metadata": {},
     "output_type": "display_data"
    },
    {
     "data": {
      "application/vnd.jupyter.widget-view+json": {
       "model_id": "b654c0363548466c87393da07519511f",
       "version_major": 2,
       "version_minor": 0
      },
      "text/plain": [
       "Validation: 0it [00:00, ?it/s]"
      ]
     },
     "metadata": {},
     "output_type": "display_data"
    },
    {
     "data": {
      "application/vnd.jupyter.widget-view+json": {
       "model_id": "c03a7ccb28a54674a9e176a51b8463d4",
       "version_major": 2,
       "version_minor": 0
      },
      "text/plain": [
       "Validation: 0it [00:00, ?it/s]"
      ]
     },
     "metadata": {},
     "output_type": "display_data"
    },
    {
     "data": {
      "application/vnd.jupyter.widget-view+json": {
       "model_id": "8516490c3e1342f4a8271ad250b6ad3b",
       "version_major": 2,
       "version_minor": 0
      },
      "text/plain": [
       "Validation: 0it [00:00, ?it/s]"
      ]
     },
     "metadata": {},
     "output_type": "display_data"
    },
    {
     "data": {
      "application/vnd.jupyter.widget-view+json": {
       "model_id": "f85b3ba0d253441587aca93107c356ec",
       "version_major": 2,
       "version_minor": 0
      },
      "text/plain": [
       "Validation: 0it [00:00, ?it/s]"
      ]
     },
     "metadata": {},
     "output_type": "display_data"
    },
    {
     "data": {
      "application/vnd.jupyter.widget-view+json": {
       "model_id": "0dc8edb2cd484b628496d52447f32a3c",
       "version_major": 2,
       "version_minor": 0
      },
      "text/plain": [
       "Validation: 0it [00:00, ?it/s]"
      ]
     },
     "metadata": {},
     "output_type": "display_data"
    },
    {
     "data": {
      "application/vnd.jupyter.widget-view+json": {
       "model_id": "d6d14dbbd50449868d9912db8f8aa268",
       "version_major": 2,
       "version_minor": 0
      },
      "text/plain": [
       "Validation: 0it [00:00, ?it/s]"
      ]
     },
     "metadata": {},
     "output_type": "display_data"
    },
    {
     "name": "stderr",
     "output_type": "stream",
     "text": [
      "`Trainer.fit` stopped: `max_epochs=20` reached.\n"
     ]
    }
   ],
   "source": [
    "LEARNING_RATE = 1e-3\n",
    "CRITERION = \"CrossEntropyLoss\"\n",
    "NUM_CHOICES = 4\n",
    "EPOCHS = 20\n",
    "\n",
    "model = QAMLP(num_choices=NUM_CHOICES,input_size=768,hidden_size=256,criterion=CRITERION,learning_rate=LEARNING_RATE)\n",
    "\n",
    "from lightning import Trainer\n",
    "trainer = Trainer(max_epochs=EPOCHS, devices=1, logger=False,enable_checkpointing=False)\n",
    "trainer.fit(model, train_dl, valid_dl)"
   ]
  },
  {
   "attachments": {},
   "cell_type": "markdown",
   "id": "0bfa74b5",
   "metadata": {},
   "source": [
    "### Evaluation\n",
    "\n",
    "A detailed report is available on [WandB](https://wandb.ai//dla-darcio/lab-2-question-answering/reports/Multiple-Choice-Question-Answering--Vmlldzo0NzY0MTM3)"
   ]
  },
  {
   "cell_type": "code",
   "execution_count": 50,
   "id": "119ff6c8",
   "metadata": {},
   "outputs": [
    {
     "name": "stderr",
     "output_type": "stream",
     "text": [
      "Some weights of the model checkpoint at distilbert-base-uncased were not used when initializing DistilBertModel: ['vocab_projector.bias', 'vocab_layer_norm.bias', 'vocab_transform.weight', 'vocab_layer_norm.weight', 'vocab_transform.bias', 'vocab_projector.weight']\n",
      "- This IS expected if you are initializing DistilBertModel from the checkpoint of a model trained on another task or with another architecture (e.g. initializing a BertForSequenceClassification model from a BertForPreTraining model).\n",
      "- This IS NOT expected if you are initializing DistilBertModel from the checkpoint of a model that you expect to be exactly identical (initializing a BertForSequenceClassification model from a BertForSequenceClassification model).\n"
     ]
    },
    {
     "name": "stdout",
     "output_type": "stream",
     "text": [
      "students lower their eyes nervously. she pats her shoulder, then saunters toward someone.\n",
      "students lower their eyes nervously. she turns with two students.\n",
      "students lower their eyes nervously. she walks slowly towards someone.\n",
      "students lower their eyes nervously. she wheels around as her dog thunders out.\n",
      "CORRECT: 2\n",
      "Features shape: torch.Size([32, 4, 768])\n",
      "PREDICTED: 0\n"
     ]
    },
    {
     "data": {
      "image/png": "[encoded data removed]",
      "text/plain": [
       "<Figure size 640x480 with 1 Axes>"
      ]
     },
     "metadata": {},
     "output_type": "display_data"
    }
   ],
   "source": [
    "bert = AutoModel.from_pretrained(\"distilbert-base-uncased\").to(device)\n",
    "bert.eval()\n",
    "\n",
    "for batch in swag_valid_dl:\n",
    "\n",
    "    decoded_text = swag_dm.tokenizer.batch_decode(batch['input_ids'][0],skip_special_tokens=True)\n",
    "\n",
    "    for i in range(4):\n",
    "        print(decoded_text[i])\n",
    "    print(f\"CORRECT: {batch['label'][0]}\")\n",
    "\n",
    "    features, labels = extract_features(bert,device=device,batch=batch)\n",
    "\n",
    "    print(f\"Features shape: {features.shape}\")\n",
    "\n",
    "    logits = model(features)\n",
    "\n",
    "    probs = nn.functional.softmax(logits, dim=1)\n",
    "\n",
    "    print(f\"PREDICTED: {torch.argmax(logits[0,:])}\")\n",
    "\n",
    "    plt.bar(np.arange(4), probs[0,:].detach().cpu().numpy())\n",
    "    plt.xlabel(\"Choice\")\n",
    "    plt.ylabel(\"Probability\")\n",
    "    plt.title(\"Predicted probabilities\")\n",
    "    plt.show()\n",
    "    break"
   ]
  },
  {
   "attachments": {},
   "cell_type": "markdown",
   "id": "7721c869",
   "metadata": {},
   "source": [
    "## Exercise 3.3: Training a Retrieval Model (hardest)\n",
    "\n",
    "The Hugging Face dataset repository contains a large number of [\"text retrieval\" problems](https://huggingface.co/datasets?task_categories=task_categories:text-retrieval&p=1&sort=downloads). These tasks generally require that the model measure *similarity* between text in some metric space -- naively, just a cosine similarity between [CLS] tokens can get you pretty far. Find an interesting retrieval problem and train a model (starting from a pre-trained LLM of course) to solve it.\n",
    "\n",
    "**Tip**: Sometimes identifying the *retrieval* problems in these datasets can be half the challenge. [This dataset](https://huggingface.co/datasets/BeIR/scifact) might be a good starting point.\n",
    "\n",
    "## References\n",
    "\n",
    "- [HuggingFace Transformers](https://huggingface.co/transformers/)\n",
    "- [HuggingFace Datasets](https://huggingface.co/datasets)\n",
    "- [PyTorch Lightning](https://www.pytorchlightning.ai/)\n",
    "- [PyTorch Lightning Trainer](https://pytorch-lightning.readthedocs.io/en/latest/common/trainer.html)\n",
    "- [PyTorch Lightning LightningDataModule](https://pytorch-lightning.readthedocs.io/en/latest/extensions/datamodules.html)"
   ]
  }
 ],
 "metadata": {
  "kernelspec": {
   "display_name": "Python 3 (ipykernel)",
   "language": "python",
   "name": "python3"
  },
  "language_info": {
   "codemirror_mode": {
    "name": "ipython",
    "version": 3
   },
   "file_extension": ".py",
   "mimetype": "text/x-python",
   "name": "python",
   "nbconvert_exporter": "python",
   "pygments_lexer": "ipython3",
   "version": "3.10.10"
  }
 },
 "nbformat": 4,
 "nbformat_minor": 5
}
