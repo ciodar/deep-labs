{
 "cells": [
  {
   "cell_type": "markdown",
   "id": "d97f7c5d-46f3-4cbd-80ad-f1e50cd65096",
   "metadata": {},
   "source": [
    "# Deep Learning Applications: Laboratory #1\n",
    "\n",
    "In this first laboratory we will work relatively simple architectures to get a feel for working with Deep Models. This notebook is designed to work with PyTorch, but as I said in the introductory lecture: please feel free to use and experiment with whatever tools you like.\n",
    "\n"
   ]
  },
  {
   "cell_type": "markdown",
   "id": "17ed8906-bd19-4b4f-8b79-4feae355ffd6",
   "metadata": {},
   "source": [
    "## Exercise 1: Warming Up\n",
    "In this series of exercises I want you to try to duplicate (on a small scale) the results of the ResNet paper:\n",
    "\n",
    "> [Deep Residual Learning for Image Recognition](https://arxiv.org/abs/1512.03385), Kaiming He, Xiangyu Zhang, Shaoqing Ren, Jian Sun, CVPR 2016.\n",
    "\n",
    "We will do this in steps using a Multilayer Perceptron on MNIST.\n",
    "\n",
    "Recall that the main message of the ResNet paper is that **deeper** networks do not **guarantee** more reduction in training loss (or in validation accuracy). Below you will incrementally build a sequence of experiments to verify this for an MLP. A few guidelines:\n",
    "\n",
    "+ I have provided some **starter** code at the beginning. **NONE** of this code should survive in your solutions. Not only is it **very** badly written, it is also written in my functional style that also obfuscates what it's doing (in part to **discourage** your reuse!). It's just to get you *started*.\n",
    "+ These exercises ask you to compare **multiple** training runs, so it is **really** important that you factor this into your **pipeline**. Using [Tensorboard](https://pytorch.org/tutorials/recipes/recipes/tensorboard_with_pytorch.html) is a **very** good idea -- or, even better [Weights and Biases](https://wandb.ai/site).\n",
    "+ You may work and submit your solutions in **groups of at most two**. Share your ideas with everyone, but the solutions you submit *must be your own*.\n",
    "\n",
    "First some boilerplate to get you started, then on to the actual exercises!"
   ]
  },
  {
   "cell_type": "code",
   "execution_count": 1,
   "id": "ab3a8282-2322-4dca-b76e-2f3863bc75fb",
   "metadata": {
    "tags": [],
    "ExecuteTime": {
     "start_time": "2023-05-11T11:02:42.527369Z",
     "end_time": "2023-05-11T11:02:46.002902Z"
    }
   },
   "outputs": [],
   "source": [
    "# Start with some standard imports.\n",
    "from os import chdir\n",
    "from random import randrange\n",
    "import matplotlib.pyplot as plt\n",
    "import numpy as np\n",
    "import wandb\n",
    "\n",
    "import torch\n",
    "import torch.nn as nn\n",
    "import torch.nn.functional as F\n",
    "import torchvision\n",
    "import torchvision.datasets as datasets\n",
    "import torchvision.transforms as transforms\n",
    "from pathlib import Path\n",
    "from torch.utils.data import DataLoader\n",
    "from torch.utils.data import Subset\n",
    "from torchvision.transforms import InterpolationMode\n",
    "import torchvision.transforms.functional as transforms_F\n",
    "from torchvision.utils import draw_bounding_boxes\n",
    "from torchvision.ops import masks_to_boxes\n",
    "\n",
    "from data_loader import SubsetDataset\n",
    "from trainer import Trainer\n",
    "\n",
    "\n",
    "# some utility functions\n",
    "# sets current directory a the notebook's parent\n",
    "def make_paths_relative_to_root():\n",
    "    \"\"\"Always use the same, absolute (relative to root) paths\n",
    "    which makes moving the notebooks around easier.\n",
    "    \"\"\"\n",
    "    top_level = Path(__file__).parent\n",
    "    chdir(top_level)\n",
    "\n",
    "# functions to show an image\n",
    "def imshow(img, one_channel=False):\n",
    "    if one_channel:\n",
    "        img = img.mean(dim=0)\n",
    "    img = img / 2 + 0.5  # unnormalize\n",
    "    npimg = img.numpy()\n",
    "    if one_channel:\n",
    "        plt.imshow(npimg, cmap=\"Greys\")\n",
    "    else:\n",
    "        plt.imshow(np.transpose(npimg, (1, 2, 0)))\n",
    "\n",
    "#Global setting\n",
    "BATCH_SIZE = 128\n",
    "DEVICE = 'cuda:0'"
   ]
  },
  {
   "cell_type": "markdown",
   "id": "33cc12cc-8422-47bf-8d8e-0950ac05ae96",
   "metadata": {},
   "source": [
    "#### Data preparation\n",
    "I define a custom class `SubsetDataset`, which wraps a `Subset` into a `Dataset` object. This will be useful when we'll want to use a different transformation from training and validation on CIFAR-10.\n",
    "\n",
    "For MNIST dataset we use the following approach\n",
    "- Data is normalized using the mean and standard deviation of the dataset and then resized to 32x32, to mantain the same size of CIFAR-10. This resize was also used in the original LeNet paper for convolutional networks, as it helps to enlarge the receptive field of convolutional layers.\n",
    "- 10% of training data is held out and used for validation."
   ]
  },
  {
   "cell_type": "code",
   "execution_count": 2,
   "id": "272a69db-0416-444a-9be4-5f055ff48bbb",
   "metadata": {
    "tags": [],
    "ExecuteTime": {
     "start_time": "2023-05-11T11:02:46.008906Z",
     "end_time": "2023-05-11T11:02:46.060902Z"
    }
   },
   "outputs": [],
   "source": [
    "# Load MNIST train dataset\n",
    "dataset = datasets.MNIST(root='/data',train=True,download=True)\n",
    "# Define transformations\n",
    "transform = transforms.Compose([\n",
    "    transforms.ToTensor(),\n",
    "    # transforms.Normalize((0.1307,), (0.3081,)),\n",
    "    # antialias required to not throw a warning\n",
    "    transforms.Resize(32,antialias=False)\n",
    "])\n",
    "# Split train into train and validation. We use 10% of the training data as validation\n",
    "val_size = int(0.1*len(dataset))\n",
    "I = np.random.permutation(len(dataset))\n",
    "\n",
    "mnist_train = SubsetDataset(Subset(dataset, I[val_size:]),transform)\n",
    "mnist_val = SubsetDataset(Subset(dataset, I[:val_size]),transform)\n",
    "\n",
    "train_data_loader = DataLoader(mnist_train,batch_size=BATCH_SIZE,shuffle=True)\n",
    "valid_data_loader = DataLoader(mnist_val,batch_size=BATCH_SIZE)"
   ]
  },
  {
   "cell_type": "markdown",
   "source": [
    "Let's verify that the data is loaded correctly by plotting some images."
   ],
   "metadata": {
    "collapsed": false
   }
  },
  {
   "cell_type": "code",
   "execution_count": 3,
   "outputs": [
    {
     "name": "stdout",
     "output_type": "stream",
     "text": [
      "torch.Size([128, 1, 32, 32]) torch.Size([128])\n"
     ]
    },
    {
     "data": {
      "text/plain": "<Figure size 640x480 with 1 Axes>",
      "image/png": "[encoded data removed]"
     },
     "metadata": {},
     "output_type": "display_data"
    }
   ],
   "source": [
    "dataiter = iter(train_data_loader)\n",
    "images,labels = next(dataiter)\n",
    "# revert standardization\n",
    "# images = images*0.3081 + 0.1307\n",
    "print(images.shape, labels.shape)\n",
    "# show images\n",
    "imshow(torchvision.utils.make_grid(images[0:4],vmin=0,vmax=1),one_channel=True)"
   ],
   "metadata": {
    "collapsed": false,
    "ExecuteTime": {
     "start_time": "2023-05-11T11:02:46.053903Z",
     "end_time": "2023-05-11T11:02:46.307904Z"
    }
   }
  },
  {
   "cell_type": "markdown",
   "id": "24e05e96-7707-4490-98b8-50cb5e330af1",
   "metadata": {},
   "source": [
    "#### Training and evaluation code\n",
    "\n",
    "I will use WandB to log all the experiments.\n",
    "MLP experiments are available [here](https://wandb.ai/dla-darcio/lab-1-mlp)"
   ]
  },
  {
   "cell_type": "code",
   "execution_count": 4,
   "outputs": [
    {
     "name": "stderr",
     "output_type": "stream",
     "text": [
      "\u001B[34m\u001B[1mwandb\u001B[0m: Currently logged in as: \u001B[33mdario-cioni\u001B[0m (\u001B[33mdla-darcio\u001B[0m). Use \u001B[1m`wandb login --relogin`\u001B[0m to force relogin\n"
     ]
    }
   ],
   "source": [
    "wandb.login()\n",
    "\n",
    "wandb_config = {\n",
    "    \"project\":\"lab-1\",\n",
    "    \"job_type\": \"model_trainer\",\n",
    "    \"dataset_name\": \"mnist\",\n",
    "    \"model_collection_name\": \"MNIST MLP\"\n",
    "}"
   ],
   "metadata": {
    "collapsed": false,
    "ExecuteTime": {
     "start_time": "2023-05-11T11:02:46.311904Z",
     "end_time": "2023-05-11T11:02:49.416920Z"
    }
   }
  },
  {
   "cell_type": "markdown",
   "source": [
    "I defined a custom [Trainer](trainer.py) class to handle the training and validation loop.\n",
    "The `Trainer` will contain all the training logic, for simplicity we fixed the following parameters:\n",
    "- Loss will be always categorical cross-entropy and will be logged during training and validation\n",
    "- Top-1 accuracy will be logged during model training and validation\n",
    "- Model's gradients will be also logged during training by WandB utility `wandb.watch`."
   ],
   "metadata": {
    "collapsed": false
   }
  },
  {
   "cell_type": "markdown",
   "id": "875008c3-306c-4e39-a845-d7bda7862621",
   "metadata": {},
   "source": [
    "### MLP definition\n",
    "Here I define a MLP class, which allows to specify the dimension of each layer by passing an array\n",
    "```python\n",
    "model_mlp = MLP([768,16,16,10])\n",
    "```"
   ]
  },
  {
   "cell_type": "code",
   "execution_count": 5,
   "id": "8c1e503a-37df-4fb9-94e7-85d0adb494bd",
   "metadata": {
    "tags": [],
    "ExecuteTime": {
     "start_time": "2023-05-11T11:02:49.423914Z",
     "end_time": "2023-05-11T11:02:49.477902Z"
    }
   },
   "outputs": [],
   "source": [
    "class MLP(nn.Module):\n",
    "    def __init__(self, layer_sizes):\n",
    "        super().__init__()\n",
    "        layers = []\n",
    "        for (in_dim,out_dim) in zip(layer_sizes[:-1], layer_sizes[1:]):\n",
    "            layers.append(nn.Linear(in_dim,out_dim))\n",
    "            layers.append(nn.ReLU())\n",
    "        self.layers = nn.Sequential(*layers)\n",
    "\n",
    "    def forward(self, x):\n",
    "        out = x.view(x.shape[0],-1)\n",
    "        out = self.layers(out)\n",
    "        return out"
   ]
  },
  {
   "cell_type": "markdown",
   "id": "4ae06e26-8fa3-414e-a502-8d1c18ba9eb7",
   "metadata": {},
   "source": [
    "### Training configuration\n",
    "\n",
    "To allow faster experimentation, all the configuration is defined through dictionaries and then logged into WandB.\n",
    "\n",
    "For the MNIST MLP\n",
    "- I trained the network for 30 epochs with a learning rate of $10^{-4}$ using Adam optimizer.\n",
    "- Batch size is 128"
   ]
  },
  {
   "cell_type": "markdown",
   "id": "de2cad13-ee2c-4e43-b5c7-31760da8c2df",
   "metadata": {},
   "source": [
    "### Exercise 1.1: A baseline MLP\n",
    "\n",
    "Implement a *simple* Multilayer Perceptron to classify the 10 digits of MNIST (e.g. two *narrow* layers). Use my code above as inspiration, but implement your own training pipeline -- you will need it later. Train this model to convergence, monitoring (at least) the loss and accuracy on the training and validation sets for every epoch. Below I include a basic implementation to get you started -- remember that you should write your *own* pipeline!\n",
    "\n",
    "**Note**: This would be a good time to think about *abstracting* your model definition, and training and evaluation pipelines in order to make it easier to compare performance of different models.\n",
    "\n",
    "**Important**: Given the *many* runs you will need to do, and the need to *compare* performance between them, this would **also** be a great point to study how **Tensorboard** or **Weights and Biases** can be used for performance monitoring.\n",
    "\n",
    "#### Training"
   ]
  },
  {
   "cell_type": "code",
   "execution_count": 6,
   "outputs": [
    {
     "name": "stdout",
     "output_type": "stream",
     "text": [
      "{'epochs': 30, 'lr': 0.0001, 'batch_size': 128, 'width': 100, 'depth': 2}\n"
     ]
    },
    {
     "data": {
      "text/plain": "<IPython.core.display.HTML object>",
      "text/html": "wandb version 0.15.2 is available!  To upgrade, please run:\n $ pip install wandb --upgrade"
     },
     "metadata": {},
     "output_type": "display_data"
    },
    {
     "data": {
      "text/plain": "<IPython.core.display.HTML object>",
      "text/html": "Tracking run with wandb version 0.14.2"
     },
     "metadata": {},
     "output_type": "display_data"
    },
    {
     "data": {
      "text/plain": "<IPython.core.display.HTML object>",
      "text/html": "Run data is saved locally in <code>C:\\Users\\Dario\\DataspellProjects\\DLA\\lab1\\wandb\\run-20230511_112619-5dkpyj7y</code>"
     },
     "metadata": {},
     "output_type": "display_data"
    },
    {
     "data": {
      "text/plain": "<IPython.core.display.HTML object>",
      "text/html": "Syncing run <strong><a href='https://wandb.ai/dla-darcio/lab-1/runs/5dkpyj7y' target=\"_blank\">stoic-sound-11</a></strong> to <a href='https://wandb.ai/dla-darcio/lab-1' target=\"_blank\">Weights & Biases</a> (<a href='https://wandb.me/run' target=\"_blank\">docs</a>)<br/>"
     },
     "metadata": {},
     "output_type": "display_data"
    },
    {
     "data": {
      "text/plain": "<IPython.core.display.HTML object>",
      "text/html": " View project at <a href='https://wandb.ai/dla-darcio/lab-1' target=\"_blank\">https://wandb.ai/dla-darcio/lab-1</a>"
     },
     "metadata": {},
     "output_type": "display_data"
    },
    {
     "data": {
      "text/plain": "<IPython.core.display.HTML object>",
      "text/html": " View run at <a href='https://wandb.ai/dla-darcio/lab-1/runs/5dkpyj7y' target=\"_blank\">https://wandb.ai/dla-darcio/lab-1/runs/5dkpyj7y</a>"
     },
     "metadata": {},
     "output_type": "display_data"
    },
    {
     "name": "stderr",
     "output_type": "stream",
     "text": [
      "Epoch 30: 100%|█████████▉| 420/422 [00:13<00:00, 33.52it/s, step_acc=0.609, step_loss=0.963, train_acc=0.603, train_loss=0.958, valid_acc=0.601, valid_loss=0.976]"
     ]
    },
    {
     "data": {
      "text/plain": "<IPython.core.display.HTML object>",
      "text/html": "Waiting for W&B process to finish... <strong style=\"color:green\">(success).</strong>"
     },
     "metadata": {},
     "output_type": "display_data"
    },
    {
     "name": "stderr",
     "output_type": "stream",
     "text": [
      "Epoch 30: 100%|██████████| 422/422 [00:25<00:00, 33.52it/s, step_acc=0.609, step_loss=0.963, train_acc=0.603, train_loss=0.958, valid_acc=0.601, valid_loss=0.976]"
     ]
    },
    {
     "data": {
      "text/plain": "<IPython.core.display.HTML object>",
      "text/html": "<style>\n    table.wandb td:nth-child(1) { padding: 0 10px; text-align: left ; width: auto;} td:nth-child(2) {text-align: left ; width: 100%}\n    .wandb-row { display: flex; flex-direction: row; flex-wrap: wrap; justify-content: flex-start; width: 100% }\n    .wandb-col { display: flex; flex-direction: column; flex-basis: 100%; flex: 1; padding: 10px; }\n    </style>\n<div class=\"wandb-row\"><div class=\"wandb-col\"><h3>Run history:</h3><br/><table class=\"wandb\"><tr><td>train_accuracy</td><td>▄▃▁▄▅▂▅▅▃▆▂▄▄▅▇▄▇▄▅▄▇▅▆▅▅▄▄▇█▅▄▁▇▅▇▆▄▄▅█</td></tr><tr><td>train_loss</td><td>█▆▆▄▃▅▃▃▄▂▄▄▃▃▁▄▂▃▃▄▂▂▂▃▂▃▃▂▁▃▄▄▂▃▂▂▃▃▂▁</td></tr><tr><td>val_acc</td><td>▁▂▃▃▄▄▄▄▅▅▅▆▆▆▆▆▇▆▇▇▇▇▇▇▇█████</td></tr><tr><td>val_loss</td><td>█▅▄▄▄▃▃▃▃▃▃▂▂▂▂▂▂▂▂▂▂▂▁▁▁▁▁▁▁▁</td></tr></table><br/></div><div class=\"wandb-col\"><h3>Run summary:</h3><br/><table class=\"wandb\"><tr><td>train_accuracy</td><td>0.60938</td></tr><tr><td>train_loss</td><td>0.96338</td></tr><tr><td>val_acc</td><td>0.6015</td></tr><tr><td>val_loss</td><td>0.97484</td></tr></table><br/></div></div>"
     },
     "metadata": {},
     "output_type": "display_data"
    },
    {
     "data": {
      "text/plain": "<IPython.core.display.HTML object>",
      "text/html": " View run <strong style=\"color:#cdcd00\">stoic-sound-11</strong> at: <a href='https://wandb.ai/dla-darcio/lab-1/runs/5dkpyj7y' target=\"_blank\">https://wandb.ai/dla-darcio/lab-1/runs/5dkpyj7y</a><br/>Synced 5 W&B file(s), 0 media file(s), 29 artifact file(s) and 1 other file(s)"
     },
     "metadata": {},
     "output_type": "display_data"
    },
    {
     "data": {
      "text/plain": "<IPython.core.display.HTML object>",
      "text/html": "Find logs at: <code>.\\wandb\\run-20230511_112619-5dkpyj7y\\logs</code>"
     },
     "metadata": {},
     "output_type": "display_data"
    },
    {
     "data": {
      "text/plain": "([(1.6135972554649787, 0.5272592306137085),\n  (1.1540872100122732, 0.5812963247299194),\n  (1.0972524324864572, 0.5849259495735168),\n  (1.0745862212508777, 0.5869629383087158),\n  (1.0609674248932661, 0.5886296033859253),\n  (1.050681503180644, 0.5896296501159668),\n  (1.0420208831816489, 0.5909073948860168),\n  (1.03450678917469, 0.5918889045715332),\n  (1.028252480295597, 0.5927963256835938),\n  (1.021799396423367, 0.5935184955596924),\n  (1.0165274961017319, 0.5943703651428223),\n  (1.011534440715166, 0.5951296091079712),\n  (1.0067285655234097, 0.5958518385887146),\n  (1.002290739691088, 0.5965555310249329),\n  (0.9983028245480705, 0.5971296429634094),\n  (0.9944214607584533, 0.5977592468261719),\n  (0.9904675822687375, 0.598370373249054),\n  (0.9876074988695117, 0.5988518595695496),\n  (0.9840541121801494, 0.5990740656852722),\n  (0.9806304133333866, 0.599574089050293),\n  (0.9782472918101397, 0.6000185012817383),\n  (0.9752275001663733, 0.6001481413841248),\n  (0.9727127735648675, 0.6008333563804626),\n  (0.9694882728759712, 0.6010555624961853),\n  (0.9674082315081104, 0.6017037034034729),\n  (0.9646699452569699, 0.6020185351371765),\n  (0.9623138078298614, 0.6023703813552856),\n  (0.9598850492052557, 0.602648138999939),\n  (0.9576732824199008, 0.6031110882759094),\n  (0.9557011829450797, 0.6037963032722473)],\n [(1.223209855404306, 0.5766666531562805),\n  (1.1210120371047487, 0.5806666612625122),\n  (1.0942207676299074, 0.5830000042915344),\n  (1.0776897732247697, 0.5836666822433472),\n  (1.0676581060632746, 0.5856666564941406),\n  (1.0597256472770205, 0.5866666436195374),\n  (1.0510142914792324, 0.5876666903495789),\n  (1.0461544572038854, 0.5883333086967468),\n  (1.04005787854499, 0.590666651725769),\n  (1.0348984763977376, 0.590833306312561),\n  (1.0286599372295624, 0.5918333530426025),\n  (1.024010125626909, 0.593666672706604),\n  (1.0209015709288576, 0.5948333144187927),\n  (1.01647742124314, 0.5950000286102295),\n  (1.0123121434069695, 0.5946666598320007),\n  (1.0095721052048054, 0.5954999923706055),\n  (1.0052732127778075, 0.5963333249092102),\n  (1.0041396770071476, 0.5958333611488342),\n  (1.0001490433165368, 0.597000002861023),\n  (0.9959640502929688, 0.5978333353996277),\n  (0.9963321584336301, 0.596833348274231),\n  (0.9933681576809985, 0.5976666808128357),\n  (0.9891429974677715, 0.5986666679382324),\n  (0.9875574200711352, 0.5978333353996277),\n  (0.9843448654134223, 0.5988333225250244),\n  (0.9826686978340149, 0.6000000238418579),\n  (0.9797630804650327, 0.6001666784286499),\n  (0.9777920487079215, 0.6011666655540466),\n  (0.9757712851179406, 0.6011666655540466),\n  (0.9748406739945107, 0.6014999747276306)])"
     },
     "execution_count": 6,
     "metadata": {},
     "output_type": "execute_result"
    }
   ],
   "source": [
    "INPUT_SIZE = 32*32\n",
    "\n",
    "# Training hyperparameters.\n",
    "trainer_hparams={\n",
    "    \"epochs\":30,\n",
    "    \"lr\":0.0001,\n",
    "    \"batch_size\":128\n",
    "}\n",
    "\n",
    "# Architecture hyperparameters.\n",
    "arch_hparams={\n",
    "    \"width\":100,\n",
    "    \"depth\":2\n",
    "}\n",
    "\n",
    "config = {**trainer_hparams,**arch_hparams}\n",
    "print(config)\n",
    "\n",
    "writer = wandb.init(project=wandb_config['project'],config=config)\n",
    "# Define a DataLoader for MNIST with train and validation split\n",
    "\n",
    "# Instantiate model and optimizer.\n",
    "config = writer.config\n",
    "model_mlp = MLP([INPUT_SIZE] + [config.width]*config.depth + [10]).to(DEVICE)\n",
    "opt = torch.optim.Adam(params=model_mlp.parameters(), lr=config.lr)\n",
    "# Begin training\n",
    "trainer = Trainer(opt,writer,epochs=config.epochs,device=DEVICE, checkpoints=True, **wandb_config)\n",
    "trainer.train(model_mlp,train_data_loader,valid_data_loader)"
   ],
   "metadata": {
    "collapsed": false,
    "ExecuteTime": {
     "start_time": "2023-05-11T11:02:49.436903Z",
     "end_time": "2023-05-11T11:10:57.783939Z"
    }
   }
  },
  {
   "cell_type": "markdown",
   "id": "0fb8ad9b-e3ae-4c49-9bec-35aaea149b08",
   "metadata": {},
   "source": [
    "### Exercise 1.2: Rinse and Repeat\n",
    "\n",
    "Repeat the verification you did above, but with **Convolutional** Neural Networks. If you were careful about abstracting your model and training code, this should be a simple exercise. Show that **deeper** CNNs *without* residual connections do not always work better and **even deeper** ones *with* residual connections.\n",
    "\n",
    "**Hint**: You probably should do this exercise using CIFAR10, since MNIST is *very* easy (at least up to about 99% accuracy).\n",
    "\n",
    "**Spoiler**: If you plan to do optional exercise 3.3, you should think *very* carefully about the architectures of your CNNs here (so you can reuse them!).\n",
    "\n",
    "#### CIFAR-10 Data preparation\n",
    "Here I define my dataset for CIFAR-10. Input images are per-pixel normalized along every channel. Mean and std are computed with the following code"
   ]
  },
  {
   "cell_type": "code",
   "execution_count": 7,
   "outputs": [
    {
     "name": "stdout",
     "output_type": "stream",
     "text": [
      "Files already downloaded and verified\n",
      "Mean: [0.49139968 0.48215841 0.44653091] - std: [0.24703223 0.24348513 0.26158784]\n"
     ]
    }
   ],
   "source": [
    "# Load CIFAR train set\n",
    "cifar_ds = datasets.CIFAR10(root='/data',train=True,download=True)\n",
    "# Compute mean and std\n",
    "mean = np.mean(cifar_ds.data, axis=(0,1,2))/255\n",
    "std = np.std(cifar_ds.data, axis=(0,1,2))/255\n",
    "print(f\"Mean: {mean} - std: {std}\")"
   ],
   "metadata": {
    "collapsed": false,
    "ExecuteTime": {
     "start_time": "2023-05-11T11:10:57.787976Z",
     "end_time": "2023-05-11T11:10:59.666940Z"
    }
   }
  },
  {
   "cell_type": "markdown",
   "source": [
    "Data augmentation is performed as in the paper\n",
    "- The 32x32 is padded with 4 pixel on each side\n",
    "- A random crop of 32x32 is taken from the padded image or its horizontal flip\n",
    "\n",
    "Validation is 10% of training dataset. On this set, I only perform per-pixel normalization"
   ],
   "metadata": {
    "collapsed": false
   }
  },
  {
   "cell_type": "code",
   "execution_count": 8,
   "outputs": [],
   "source": [
    "# normalize data based on train split\n",
    "normalize = transforms.Normalize((0.49139968, 0.48215841, 0.44653091), (0.24703223, 0.24348513, 0.26158784))\n",
    "# Data augmentation and normalization for training\n",
    "# Just normalization for validation\n",
    "transform = {\n",
    "    'train': transforms.Compose([\n",
    "        transforms.RandomHorizontalFlip(),\n",
    "        transforms.RandomCrop(32, 4),\n",
    "        transforms.ToTensor(),\n",
    "        normalize\n",
    "    ]),\n",
    "    'val': transforms.Compose([\n",
    "        transforms.ToTensor(),\n",
    "        normalize\n",
    "    ]),\n",
    "}\n",
    "\n",
    "# Split train into train and validation.\n",
    "val_size = int(0.1 * len(cifar_ds))\n",
    "I = np.random.permutation(len(cifar_ds))\n",
    "cifar_train = SubsetDataset(Subset(cifar_ds, I[val_size:]), transform['train'])\n",
    "cifar_val = SubsetDataset(Subset(cifar_ds, I[:val_size]), transform['val'])\n",
    "\n",
    "cifar_train_loader = DataLoader(cifar_train, batch_size=BATCH_SIZE, shuffle=True)"
   ],
   "metadata": {
    "collapsed": false,
    "ExecuteTime": {
     "start_time": "2023-05-11T11:10:59.672944Z",
     "end_time": "2023-05-11T11:10:59.711941Z"
    }
   }
  },
  {
   "cell_type": "markdown",
   "source": [
    "To make sure that the the images and labels are in the correct format let's display a few samples. We can see that the images are not centered anymore, because of the data augmentation procedure we used"
   ],
   "metadata": {
    "collapsed": false
   }
  },
  {
   "cell_type": "code",
   "execution_count": 9,
   "outputs": [
    {
     "name": "stderr",
     "output_type": "stream",
     "text": [
      "Clipping input data to the valid range for imshow with RGB data ([0..1] for floats or [0..255] for integers).\n"
     ]
    },
    {
     "name": "stdout",
     "output_type": "stream",
     "text": [
      "torch.Size([128, 3, 32, 32]) torch.Size([128])\n"
     ]
    },
    {
     "data": {
      "text/plain": "<Figure size 640x480 with 1 Axes>",
      "image/png": "[encoded data removed]"
     },
     "metadata": {},
     "output_type": "display_data"
    }
   ],
   "source": [
    "dataiter = iter(cifar_train_loader)\n",
    "images,labels = next(dataiter)\n",
    "# images = images * std[:,None,None] + mean[:,None,None]\n",
    "print(images.shape, labels.shape)\n",
    "# show images\n",
    "imshow(torchvision.utils.make_grid(images[0:4]))"
   ],
   "metadata": {
    "collapsed": false,
    "ExecuteTime": {
     "start_time": "2023-05-11T11:10:59.687940Z",
     "end_time": "2023-05-11T11:10:59.988941Z"
    }
   }
  },
  {
   "cell_type": "markdown",
   "source": [
    "Here I define the convolutional network, which follows the ResNet definition of the paper for CIFAR-10.\n",
    "The network is composed by an initial $3\\times3$ convolutional layer, followed by a stack of $6n$ layers with $3 \\times 3$ convolutions on feature maps of sizes {32,16,8}, with $2n$ layers for each feature map size.\n",
    "The number of filters is doubled every time the size of the feature map is halved, to mantain the same number of operations.\n",
    "\n",
    "\n",
    "| Output map size | 32 x 32 | 16 x 16 | 8 x 8 |\n",
    "|-----------------|---------|---------|-------|\n",
    "| # layers        | 1 + 2n  | 2n      | 2n    |\n",
    "| # filters       | 16      | 32      | 64    |\n",
    "\n",
    "#### Residual Block\n",
    "To allow an easy modification of the model's depth and enabling/disabling residual connections, I created a `ResidualBlock` Module, which allows to add blocks of two convolutional layers to the network.\n",
    "- The block consists of two convolutional layers, each followed by a Batch Normalization Layer before the ReLU activation.\n",
    "- Downsampling is obtained with a strided convolution performed by the first convolutional layer.\n",
    "- The residual connection is obtained by summing the input feature maps before the second nonlinearity. Since summmation is allowed only if the feature maps have the same shape, a projection layer is added to the residual connection when downsampling is performed.\n",
    "\n",
    "#### Projection\n",
    "The paper experiments with three types of projection. I provide an implementation of all three\n",
    "    A) Parameter-free projection, performed by downsampling the input feature map and padding the remaining channels with zeros\n",
    "    B) Paremeterized projection with an affine trasformation, followed by a Batch Normalization layer.\n",
    "    C) Add a parameterized projection to all residual connections\n",
    "\n",
    "#### Global Average Pooling\n",
    "The ResNet use a Global Average Pooling layer followed by a Fully connected layer, as defined in [[2](https://arxiv.org/pdf/1312.4400.pdf)]. The Global Average Pooling transforms a feature map $H \\times W \\times C$ into $1 \\times 1 \\times C$.\n",
    "If $C = $ num_classes, the resulting tensor could be directly fed into a softmax for prediction, however we employ a single Fully Connected layer, as done in the paper.\n",
    "\n",
    "#### Initialization\n"
   ],
   "metadata": {
    "collapsed": false
   }
  },
  {
   "cell_type": "code",
   "execution_count": 10,
   "id": "3c8baa0e-b17f-4a77-8a88-dadfdc6763ea",
   "metadata": {
    "ExecuteTime": {
     "start_time": "2023-05-11T11:11:00.000939Z",
     "end_time": "2023-05-11T11:11:00.021941Z"
    }
   },
   "outputs": [],
   "source": [
    "class DownsampleA(nn.Module):\n",
    "    def __init__(self, in_channels, out_channels, stride):\n",
    "        super().__init__()\n",
    "        self.downsample = nn.AvgPool2d(kernel_size=1, stride=stride)\n",
    "\n",
    "    def forward(self, x):\n",
    "        d = self.downsample(x)\n",
    "        # Here I assume stride is only 2.\n",
    "        out = torch.concat([d, torch.zeros_like(d)], dim=1)\n",
    "        return out\n",
    "\n",
    "\n",
    "class DownsampleB(nn.Module):\n",
    "    def __init__(self, in_channels, out_channels, stride):\n",
    "        super().__init__()\n",
    "        self.downsample = nn.Sequential(\n",
    "            nn.Conv2d(in_channels, out_channels, kernel_size=1, stride=stride, bias=False),\n",
    "            nn.BatchNorm2d(out_channels)\n",
    "        )\n",
    "\n",
    "    def forward(self, x):\n",
    "        out = self.downsample(x)\n",
    "        return out\n",
    "\n",
    "\n",
    "class ResidualBlock(nn.Module):\n",
    "    def __init__(self, in_channels, out_channels, residual=True, residual_type='b', stride=1, batchnorm=True):\n",
    "        super().__init__()\n",
    "        self.residual = residual\n",
    "        self.batchnorm = batchnorm\n",
    "        self.stride = stride\n",
    "        if residual:\n",
    "            self.residual_type = residual_type.lower()\n",
    "            if self.residual_type == 'a' and (in_channels != out_channels or stride > 1):\n",
    "                self.project = DownsampleA(in_channels, out_channels, stride)\n",
    "            if self.residual_type == 'b' and (in_channels != out_channels or stride > 1):\n",
    "                self.project = DownsampleB(in_channels, out_channels, stride)\n",
    "            if self.residual_type == 'c':\n",
    "                self.project = DownsampleB(in_channels, out_channels, stride)\n",
    "        # vgg has strided conv instead of maxpool\n",
    "        self.conv1 = nn.Conv2d(in_channels, out_channels, kernel_size=3, padding=1, stride=stride,\n",
    "                               bias=(not self.batchnorm))\n",
    "        self.conv2 = nn.Conv2d(out_channels, out_channels, kernel_size=3, padding=1, bias=(not self.batchnorm))\n",
    "        if self.batchnorm:\n",
    "            self.bn1 = nn.BatchNorm2d(out_channels)\n",
    "            self.bn2 = nn.BatchNorm2d(out_channels)\n",
    "\n",
    "        for m in self.modules():\n",
    "            if isinstance(m, nn.Conv2d):\n",
    "                nn.init.kaiming_normal_(m.weight, mode='fan_out', nonlinearity='relu')\n",
    "            elif isinstance(m, nn.BatchNorm2d):\n",
    "                nn.init.constant_(m.weight, 1)\n",
    "                nn.init.constant_(m.bias, 0)\n",
    "\n",
    "    def forward(self, x):\n",
    "        # first conv\n",
    "        out = self.conv1(x)\n",
    "        if self.batchnorm:\n",
    "            out = self.bn1(out)\n",
    "        out = F.relu(out)\n",
    "        # second conv\n",
    "        out = self.conv2(out)\n",
    "        if self.batchnorm:\n",
    "            out = self.bn2(out)\n",
    "        # residual connection\n",
    "        if self.residual:\n",
    "            res = x if x.shape == out.shape else self.project(x)\n",
    "            out += res\n",
    "        out = F.relu(out)\n",
    "        return out\n",
    "\n",
    "\n",
    "class ResNet(nn.Module):\n",
    "    def __init__(self, layers, residual=False, residual_type='b', num_channels=16, batchnorm=True,grayscale=False):\n",
    "        super().__init__()\n",
    "        self.residual = residual\n",
    "        self.batchnorm = batchnorm\n",
    "        self.residual_type = residual_type if residual else None\n",
    "        in_channels = 1 if grayscale else 3\n",
    "\n",
    "        self.conv1 = nn.Conv2d(in_channels, num_channels, 3, padding=1, bias=(not self.batchnorm))\n",
    "        if self.batchnorm:\n",
    "            self.bn1 = nn.BatchNorm2d(num_channels)\n",
    "        # stack 3 convolutional block of 2n layers each, with first block performing a downsampling (only in 2nd and 3rd layer for CIFAR)\n",
    "        self.layer1 = self._add_block(in_channels=num_channels, out_channels=num_channels, n_blocks=layers[0], stride=1)\n",
    "        num_channels *= 2\n",
    "        self.layer2 = self._add_block(num_channels // 2, num_channels, layers[1], stride=2)\n",
    "        num_channels *= 2\n",
    "        self.layer3 = self._add_block(num_channels // 2, num_channels, layers[2], stride=2)\n",
    "        self.num_channels = num_channels\n",
    "\n",
    "    def _add_block(self, in_channels, out_channels, n_blocks, stride=1):\n",
    "        layers = []\n",
    "        layers.append(ResidualBlock(in_channels, out_channels, self.residual, self.residual_type, stride=stride,\n",
    "                                    batchnorm=self.batchnorm))\n",
    "        in_channels = out_channels\n",
    "        for i in range(1, n_blocks):\n",
    "            layers.append(\n",
    "                ResidualBlock(in_channels, out_channels, self.residual, self.residual_type, batchnorm=self.batchnorm))\n",
    "        return nn.Sequential(*layers)\n",
    "\n",
    "    def forward(self, x):\n",
    "        out = self.conv1(x)\n",
    "        if self.batchnorm:\n",
    "            out = self.bn1(out)\n",
    "        out = F.relu(out, inplace=True)\n",
    "        # print(out.shape) # 128,16,32,32\n",
    "        out = self.layer1(out)\n",
    "        # print(out.shape) # 128,32,16,16\n",
    "        out = self.layer2(out)\n",
    "        # print(out.shape) # 128,32,8,8\n",
    "        out = self.layer3(out)\n",
    "        # print(out.shape) # 128,64,4,4\n",
    "        # print(out.shape)\n",
    "        return out\n",
    "\n",
    "\n",
    "class ResNetForClassification(ResNet):\n",
    "    def __init__(self, num_classes: int = 10, *args, **kwargs):\n",
    "        super().__init__(*args, **kwargs)\n",
    "        self.avgpool = nn.AdaptiveAvgPool2d((1, 1))\n",
    "        self.fc = nn.Linear(self.num_channels, num_classes)\n",
    "\n",
    "    def forward(self, x):\n",
    "        out = super().forward(x)\n",
    "        # print(out.shape) # 128,64,4,4\n",
    "        out = self.avgpool(out)\n",
    "        # print(out.shape) # 128,64,1,1\n",
    "        out = torch.flatten(out, 1)\n",
    "        # print(out.shape) # 128,64\n",
    "        out = self.fc(out)\n",
    "        return out"
   ]
  },
  {
   "cell_type": "markdown",
   "source": [
    "#### Training\n",
    "We can now train convolutional models with and without residual connections.\n",
    "- Used SGD optimizer, since it usually allows better results [[1](https://arxiv.org/pdf/1705.08292.pdf)], but needs to be trained for more epochs than Adam.\n",
    "- Following the paper, I used a momentum of 0.9 and a weight decay of $10^{-4}$.\n",
    "- The learning rate is initially set as 0.1 and divided by 10 at epochs 50 and 75, and training ends at epoch 85.\n",
    "\n",
    "We train four models, with 3 and 9 blocks per layer, leading to 20 and 56 layer architectures, with and without residual connections.\n",
    "Training logs are available [here](https://wandb.ai/dla-darcio/lab-1-resnets) or by executing in terminal:\n",
    "\n",
    "```bash\n",
    "wandb dla-darcio/lab-1-resnets\n",
    "```"
   ],
   "metadata": {
    "collapsed": false
   }
  },
  {
   "cell_type": "markdown",
   "source": [
    "#### Experimental results\n",
    "\n",
    "We can see that the 56-layer network without residual connections obtains a lower validation accuracy than the 20-layer plain net (-4.5%).\n",
    "Both the 20-layer and the 56-layer residual network obtain a higher validation accuracy compared to the plain networks, with the 56-layer residual network leading to the best accuracy, with a slight increase with respect to the 20-layer residual network (+0.3%)."
   ],
   "metadata": {
    "collapsed": false
   }
  },
  {
   "cell_type": "markdown",
   "source": [
    "<img src=\"./assets/Plain_Res_accuracy.png\"  width=\"1600\" height=\"800\">"
   ],
   "metadata": {
    "collapsed": false
   }
  },
  {
   "cell_type": "markdown",
   "source": [
    "#### We need to go deeper\n",
    "As stated by the famous [meme](https://knowyourmeme.com/memes/we-need-to-go-deeper), I tried additional, deeper configurations, such as a 101-layer configuration and a 152-layer configuration.\n",
    "In this case we can see that the 56-layer and the 101-layer configuration achieve similar results, with the 101-layer configuration leading to a slightly better accuracy (+0.2%).\n",
    "The 152-layer configuration, however, leads to a lower accuracy than the 56-layer configuration (-0.5%).\n"
   ],
   "metadata": {
    "collapsed": false
   }
  },
  {
   "cell_type": "markdown",
   "source": [
    "<img src=\"./assets/Deep_Res_accuracy.png\"  width=\"1600\" height=\"800\">"
   ],
   "metadata": {
    "collapsed": false
   }
  },
  {
   "cell_type": "markdown",
   "source": [
    "Looking at the loss on the validation set, we see that for 101-layer and 152-layer configuration the loss starts to rise again after a certain number of epochs, which is a sign of overfitting.\n",
    "We can thus attribute the lower accuracy of the 152-layer configuration to overfitting.\n"
   ],
   "metadata": {
    "collapsed": false
   }
  },
  {
   "cell_type": "markdown",
   "source": [
    "<img src=\"./assets/deep_res_loss.png\"  width=\"1600\" height=\"800\">"
   ],
   "metadata": {
    "collapsed": false
   }
  },
  {
   "cell_type": "markdown",
   "id": "ef4de2f2-abc5-4f98-9eaf-3497f734a022",
   "metadata": {},
   "source": [
    "-----\n",
    "## Exercise 2: Choose at Least One\n",
    "\n",
    "Below are **three** exercises that ask you to deepen your understanding of Deep Networks for visual recognition. You must choose **at least one** of the below for your final submission -- feel free to do **more**, but at least **ONE** you must submit."
   ]
  },
  {
   "cell_type": "markdown",
   "id": "07978e8e-9f2e-4949-9699-495af6cb6349",
   "metadata": {},
   "source": [
    "### Exercise 2.1: Explain why Residual Connections are so effective\n",
    "Use your two models (with and without residual connections) you developed above to study and **quantify** why the residual versions of the networks learn more effectively.\n",
    "\n",
    "**Hint**: A good starting point might be looking at the gradient magnitudes passing through the networks during backpropagation."
   ]
  },
  {
   "cell_type": "markdown",
   "source": [
    "#### Wandb logs\n",
    "WandB allowed to log the gradients flowing through the network during training.\n",
    "We can see that the gradients flowing through the residual network are much higher than the gradients flowing through the plain network.\n",
    "\n",
    "Taking for example the gradients in the first convolutional layer of each block, we can see that the gradients flowing through the residual network are about 10 times higher than the gradients flowing through the plain network."
   ],
   "metadata": {
    "collapsed": false
   }
  },
  {
   "cell_type": "markdown",
   "source": [
    "<img src=\"./assets/grad_flow.png\"  width=\"1600\" height=\"800\">"
   ],
   "metadata": {
    "collapsed": false
   }
  },
  {
   "cell_type": "markdown",
   "source": [
    "#### Plain network"
   ],
   "metadata": {
    "collapsed": false
   }
  },
  {
   "cell_type": "code",
   "execution_count": 11,
   "outputs": [],
   "source": [
    "def plot_grad_flow(named_parameters):\n",
    "    '''Plots the gradients flowing through different layers in the net during training.\n",
    "    Can be used for checking for possible gradient vanishing / exploding problems.\n",
    "\n",
    "    Usage: Plug this function in Trainer class after loss.backwards() as\n",
    "    \"plot_grad_flow(self.model.named_parameters())\" to visualize the gradient flow'''\n",
    "    ave_grads = []\n",
    "    max_grads= []\n",
    "    layers = []\n",
    "\n",
    "    fig, (ax1,ax2) = plt.subplots(1,2,figsize=(20,10),sharex=False,sharey=False)\n",
    "\n",
    "    for n, p in named_parameters:\n",
    "        if(p.requires_grad) and \"conv\" in n:\n",
    "\n",
    "            grad_norm = torch.nn.utils.clip_grad_norm_(p, torch.inf, norm_type=2)\n",
    "            # print(grad_norm)\n",
    "            layers.append(n)\n",
    "            ave_grads.append(p.grad.abs().mean())\n",
    "            max_grads.append(grad_norm)\n",
    "    ax1.plot(np.arange(len(max_grads)), max_grads, lw=1, color=\"r\")\n",
    "    ax2.plot(np.arange(len(ave_grads)), ave_grads, lw=1, color=\"b\")\n",
    "    # plt.hlines(0, 0, len(ave_grads)+1, lw=2, color=\"k\" )\n",
    "    # plt.xticks(range(0,len(ave_grads), 1), layers, rotation=\"vertical\")\n",
    "    # ax1.xlim(left=0, right=len(layers))\n",
    "    # ax1.set_xlim(25,len(layers)) # zoom in on the lower gradient regions\n",
    "    # ax2.set_xlim(25,len(layers)) # zoom in on the lower gradient regions\n",
    "    # ax1.set_ylim(top=0.01) # zoom in on the lower gradient regions\n",
    "    # ax2.set_ylim(top=0.01) # zoom in on the lower gradient regions\n",
    "    ax1.set_xlabel(\"Layers\")\n",
    "    ax1.set_ylabel(\"max gradient\")\n",
    "    ax2.set_ylabel(\"average gradient\")\n",
    "    # fig.set_title(\"Gradient flow\")\n",
    "    plt.grid(False)\n",
    "    # plt.legend(['max-gradient', 'mean-gradient', 'zero-gradient'])\n",
    "\n"
   ],
   "metadata": {
    "collapsed": false,
    "ExecuteTime": {
     "start_time": "2023-05-11T11:11:00.020943Z",
     "end_time": "2023-05-11T11:11:00.038938Z"
    }
   }
  },
  {
   "cell_type": "markdown",
   "source": [
    "#### Residual network\n"
   ],
   "metadata": {
    "collapsed": false
   }
  },
  {
   "cell_type": "markdown",
   "id": "440a3a7b-2ed6-4f58-a1b7-5ab1fc432893",
   "metadata": {},
   "source": [
    "### Exercise 2.2: Fully-convolutionalize a network.\n",
    "Take one of your trained classifiers and **fully-convolutionalize** it. That is, turn it into a network that can predict classification outputs at *all* pixels in an input image. Can you turn this into a **detector** of handwritten digits? Give it a try.\n",
    "\n",
    "**Hint 1**: Sometimes the process of fully-convolutionalization is called \"network surgery\".\n",
    "\n",
    "**Hint 2**: To test your fully-convolutionalized networks you might want to write some functions to take random MNIST samples and embed them into a larger image (i.e. in a regular grid or at random positions).\n",
    "\n",
    "#### MNIST Object localization\n",
    "This experiment uses a fully-convolutionalized ResNet to perform **object localization** on MNIST. This was chosen over **detection** since it and could not use the same training procedure as before, and would require an approach which evaluates both precision and recall and requires more hyperparameters to tune (e.g the threshold for the detection).\n",
    "\n",
    "#### Fully-convolutional model definition\n",
    "To make a fully-convolutional model, I only changed two things:\n",
    "- Associate one feature map to each model class. To achieve this, we can use a 1x1 convolution to pass from 64 to 10 feature maps for MNIST and CIFAR-10\n",
    "- Removed the last fully-connected layer and replaced it with a $1x1$ global average pooling layer.\n",
    "- Use a Global Average pooling to calculate the spatial average of each feature map\n",
    "\n",
    "I created a new class `FullyConvResNet` that inherits from `ResNet`, which defines two methods:\n",
    "- A standard `forward` method to perform classification\n",
    "- A localize method to perform classification + localization.\n",
    "\n",
    "The localization method generates a feature map of dimension $(mapping_size \\times mapping_size)$, which is then transformed into a map of pixel-level probabilities of each class using a 2d softmax function.\n",
    "Since the network performs downsampling of the input image, this map is smaller than the input image, so that each element in this map is associated to a region of the input image."
   ]
  },
  {
   "cell_type": "code",
   "execution_count": 12,
   "outputs": [],
   "source": [
    "class FullyConvResNet(ResNet):\n",
    "    def __init__(self, num_classes: int = 10, mapping_size = 16, *args, **kwargs):\n",
    "        super().__init__(*args, **kwargs)\n",
    "        self.project = nn.Conv2d(self.num_channels,num_classes,1)\n",
    "        self.classifier = nn.AdaptiveAvgPool2d(1)\n",
    "        # Someway limits\n",
    "        self.map = nn.AdaptiveAvgPool2d(mapping_size)\n",
    "        self.s2d = nn.Softmax2d()\n",
    "\n",
    "    def forward(self, x):\n",
    "        out = super().forward(x)\n",
    "        # print(out.shape) # 128,64,4,4\n",
    "        out = self.project(out)\n",
    "        # print(out.shape) # 128,10,4,4\n",
    "        logits = self.classifier(out)\n",
    "        # print(out.shape) # 128,10,1,1\n",
    "        return logits.squeeze()\n",
    "\n",
    "    def localize(self, x):\n",
    "        out = super().forward(x)\n",
    "        out = self.project(out)\n",
    "        # compute classification\n",
    "        logits = self.classifier(out)\n",
    "        # compute activation map\n",
    "        mapping = self.map(out)\n",
    "        return logits, self.s2d(mapping)"
   ],
   "metadata": {
    "collapsed": false,
    "ExecuteTime": {
     "start_time": "2023-05-11T11:11:00.031942Z",
     "end_time": "2023-05-11T11:11:00.062939Z"
    }
   }
  },
  {
   "cell_type": "code",
   "execution_count": 13,
   "outputs": [
    {
     "name": "stdout",
     "output_type": "stream",
     "text": [
      "torch.Size([128, 1, 32, 32]) torch.Size([128])\n"
     ]
    },
    {
     "data": {
      "text/plain": "<Figure size 640x480 with 1 Axes>",
      "image/png": "[encoded data removed]"
     },
     "metadata": {},
     "output_type": "display_data"
    }
   ],
   "source": [
    "dataiter = iter(train_data_loader)\n",
    "images,labels = next(dataiter)\n",
    "# images = images * std[:,None,None] + mean[:,None,None]\n",
    "print(images.shape, labels.shape)\n",
    "# show images\n",
    "imshow(torchvision.utils.make_grid(images[0:4]),one_channel=True)"
   ],
   "metadata": {
    "collapsed": false,
    "ExecuteTime": {
     "start_time": "2023-05-11T11:11:00.044945Z",
     "end_time": "2023-05-11T11:11:00.261942Z"
    }
   }
  },
  {
   "cell_type": "markdown",
   "source": [
    "#### Data Loading\n"
   ],
   "metadata": {
    "collapsed": false
   }
  },
  {
   "cell_type": "code",
   "execution_count": 14,
   "outputs": [],
   "source": [
    "AUG_SIZE = 128\n",
    "\n",
    "def embed_image(img):\n",
    "    imgs, labels = torch.utils.data.default_collate(img)\n",
    "    batch_size,channels = imgs.shape[0:2]\n",
    "    new_img = torch.zeros((batch_size,channels,AUG_SIZE, AUG_SIZE))\n",
    "    x_min, y_min = randrange(AUG_SIZE - imgs.shape[2]), randrange(AUG_SIZE - imgs.shape[3])\n",
    "    x_max, y_max = x_min + imgs.shape[2], y_min + imgs.shape[3]\n",
    "    new_img[:,:,x_min:x_max, y_min:y_max] = imgs\n",
    "    # print(new_img.shape)\n",
    "    return new_img, labels #(x_min, y_min, x_max, y_max)"
   ],
   "metadata": {
    "collapsed": false,
    "ExecuteTime": {
     "start_time": "2023-05-11T11:11:00.264941Z",
     "end_time": "2023-05-11T11:11:00.320937Z"
    }
   }
  },
  {
   "cell_type": "code",
   "execution_count": 15,
   "outputs": [
    {
     "data": {
      "text/plain": "<Figure size 640x480 with 1 Axes>",
      "image/png": "[encoded data removed]"
     },
     "metadata": {},
     "output_type": "display_data"
    }
   ],
   "source": [
    "train_data_loader = DataLoader(mnist_train,batch_size=BATCH_SIZE,shuffle=True,collate_fn=embed_image)\n",
    "valid_data_loader = DataLoader(mnist_val,batch_size=BATCH_SIZE,collate_fn=embed_image)\n",
    "\n",
    "dataiter = iter(train_data_loader)\n",
    "images,labels = next(dataiter)\n",
    "images, labels = images[0:4], labels[0:4]\n",
    "\n",
    "imshow(torchvision.utils.make_grid(images),one_channel=True)"
   ],
   "metadata": {
    "collapsed": false,
    "ExecuteTime": {
     "start_time": "2023-05-11T11:11:00.279941Z",
     "end_time": "2023-05-11T11:11:00.498939Z"
    }
   }
  },
  {
   "cell_type": "code",
   "execution_count": 16,
   "outputs": [
    {
     "data": {
      "text/plain": "<IPython.core.display.HTML object>",
      "text/html": "wandb version 0.15.2 is available!  To upgrade, please run:\n $ pip install wandb --upgrade"
     },
     "metadata": {},
     "output_type": "display_data"
    },
    {
     "data": {
      "text/plain": "<IPython.core.display.HTML object>",
      "text/html": "Tracking run with wandb version 0.14.2"
     },
     "metadata": {},
     "output_type": "display_data"
    },
    {
     "data": {
      "text/plain": "<IPython.core.display.HTML object>",
      "text/html": "Run data is saved locally in <code>C:\\Users\\Dario\\DataspellProjects\\DLA\\lab1\\wandb\\run-20230511_113444-kebpeyfl</code>"
     },
     "metadata": {},
     "output_type": "display_data"
    },
    {
     "data": {
      "text/plain": "<IPython.core.display.HTML object>",
      "text/html": "Syncing run <strong><a href='https://wandb.ai/dla-darcio/lab-1/runs/kebpeyfl' target=\"_blank\">valiant-cherry-12</a></strong> to <a href='https://wandb.ai/dla-darcio/lab-1' target=\"_blank\">Weights & Biases</a> (<a href='https://wandb.me/run' target=\"_blank\">docs</a>)<br/>"
     },
     "metadata": {},
     "output_type": "display_data"
    },
    {
     "data": {
      "text/plain": "<IPython.core.display.HTML object>",
      "text/html": " View project at <a href='https://wandb.ai/dla-darcio/lab-1' target=\"_blank\">https://wandb.ai/dla-darcio/lab-1</a>"
     },
     "metadata": {},
     "output_type": "display_data"
    },
    {
     "data": {
      "text/plain": "<IPython.core.display.HTML object>",
      "text/html": " View run at <a href='https://wandb.ai/dla-darcio/lab-1/runs/kebpeyfl' target=\"_blank\">https://wandb.ai/dla-darcio/lab-1/runs/kebpeyfl</a>"
     },
     "metadata": {},
     "output_type": "display_data"
    },
    {
     "name": "stderr",
     "output_type": "stream",
     "text": [
      "C:\\Users\\Dario\\mambaforge\\envs\\pytorch-lightning\\lib\\site-packages\\wandb\\sdk\\wandb_run.py:2087: UserWarning: Run (5dkpyj7y) is finished. The call to `_console_raw_callback` will be ignored. Please make sure that you are using an active run.\n",
      "  lambda data: self._console_raw_callback(\"stderr\", data),\n",
      "Epoch 30: 100%|██████████| 422/422 [00:39<00:00, 10.67it/s, step_acc=0.609, step_loss=0.963, train_acc=0.603, train_loss=0.958, valid_acc=0.601, valid_loss=0.976]\n"
     ]
    },
    {
     "name": "stdout",
     "output_type": "stream",
     "text": [
      "FullyConvResNet(\n",
      "  (conv1): Conv2d(1, 16, kernel_size=(3, 3), stride=(1, 1), padding=(1, 1), bias=False)\n",
      "  (bn1): BatchNorm2d(16, eps=1e-05, momentum=0.1, affine=True, track_running_stats=True)\n",
      "  (layer1): Sequential(\n",
      "    (0): ResidualBlock(\n",
      "      (conv1): Conv2d(16, 16, kernel_size=(3, 3), stride=(1, 1), padding=(1, 1), bias=False)\n",
      "      (conv2): Conv2d(16, 16, kernel_size=(3, 3), stride=(1, 1), padding=(1, 1), bias=False)\n",
      "      (bn1): BatchNorm2d(16, eps=1e-05, momentum=0.1, affine=True, track_running_stats=True)\n",
      "      (bn2): BatchNorm2d(16, eps=1e-05, momentum=0.1, affine=True, track_running_stats=True)\n",
      "    )\n",
      "  )\n",
      "  (layer2): Sequential(\n",
      "    (0): ResidualBlock(\n",
      "      (project): DownsampleA(\n",
      "        (downsample): AvgPool2d(kernel_size=1, stride=2, padding=0)\n",
      "      )\n",
      "      (conv1): Conv2d(16, 32, kernel_size=(3, 3), stride=(2, 2), padding=(1, 1), bias=False)\n",
      "      (conv2): Conv2d(32, 32, kernel_size=(3, 3), stride=(1, 1), padding=(1, 1), bias=False)\n",
      "      (bn1): BatchNorm2d(32, eps=1e-05, momentum=0.1, affine=True, track_running_stats=True)\n",
      "      (bn2): BatchNorm2d(32, eps=1e-05, momentum=0.1, affine=True, track_running_stats=True)\n",
      "    )\n",
      "  )\n",
      "  (layer3): Sequential(\n",
      "    (0): ResidualBlock(\n",
      "      (project): DownsampleA(\n",
      "        (downsample): AvgPool2d(kernel_size=1, stride=2, padding=0)\n",
      "      )\n",
      "      (conv1): Conv2d(32, 64, kernel_size=(3, 3), stride=(2, 2), padding=(1, 1), bias=False)\n",
      "      (conv2): Conv2d(64, 64, kernel_size=(3, 3), stride=(1, 1), padding=(1, 1), bias=False)\n",
      "      (bn1): BatchNorm2d(64, eps=1e-05, momentum=0.1, affine=True, track_running_stats=True)\n",
      "      (bn2): BatchNorm2d(64, eps=1e-05, momentum=0.1, affine=True, track_running_stats=True)\n",
      "    )\n",
      "  )\n",
      "  (project): Conv2d(64, 10, kernel_size=(1, 1), stride=(1, 1))\n",
      "  (classifier): AdaptiveAvgPool2d(output_size=1)\n",
      "  (map): AdaptiveAvgPool2d(output_size=16)\n",
      "  (s2d): Softmax2d()\n",
      ")\n"
     ]
    },
    {
     "name": "stderr",
     "output_type": "stream",
     "text": [
      "Epoch 5: 100%|██████████| 422/422 [01:37<00:00,  4.43it/s, step_acc=0.977, step_loss=0.0903, train_acc=0.982, train_loss=0.0871, valid_acc=0.882, valid_loss=0.385]"
     ]
    },
    {
     "data": {
      "text/plain": "<IPython.core.display.HTML object>",
      "text/html": "Waiting for W&B process to finish... <strong style=\"color:green\">(success).</strong>"
     },
     "metadata": {},
     "output_type": "display_data"
    },
    {
     "data": {
      "text/plain": "<IPython.core.display.HTML object>",
      "text/html": "<style>\n    table.wandb td:nth-child(1) { padding: 0 10px; text-align: left ; width: auto;} td:nth-child(2) {text-align: left ; width: 100%}\n    .wandb-row { display: flex; flex-direction: row; flex-wrap: wrap; justify-content: flex-start; width: 100% }\n    .wandb-col { display: flex; flex-direction: column; flex-basis: 100%; flex: 1; padding: 10px; }\n    </style>\n<div class=\"wandb-row\"><div class=\"wandb-col\"><h3>Run history:</h3><br/><table class=\"wandb\"><tr><td>train_accuracy</td><td>▁▂▄▆▆▇▇▇█▇██████████████████████████████</td></tr><tr><td>train_loss</td><td>█▇▆▅▅▄▃▃▂▂▂▂▂▁▁▁▁▁▁▁▁▁▁▁▁▁▁▁▁▁▁▁▁▁▁▁▁▁▁▁</td></tr><tr><td>val_acc</td><td>▅█▃▇▁</td></tr><tr><td>val_loss</td><td>▃▁▄▁█</td></tr></table><br/></div><div class=\"wandb-col\"><h3>Run summary:</h3><br/><table class=\"wandb\"><tr><td>train_accuracy</td><td>0.97656</td></tr><tr><td>train_loss</td><td>0.09029</td></tr><tr><td>val_acc</td><td>0.5155</td></tr><tr><td>val_loss</td><td>1.66188</td></tr></table><br/></div></div>"
     },
     "metadata": {},
     "output_type": "display_data"
    },
    {
     "data": {
      "text/plain": "<IPython.core.display.HTML object>",
      "text/html": " View run <strong style=\"color:#cdcd00\">valiant-cherry-12</strong> at: <a href='https://wandb.ai/dla-darcio/lab-1/runs/kebpeyfl' target=\"_blank\">https://wandb.ai/dla-darcio/lab-1/runs/kebpeyfl</a><br/>Synced 5 W&B file(s), 0 media file(s), 2 artifact file(s) and 1 other file(s)"
     },
     "metadata": {},
     "output_type": "display_data"
    },
    {
     "data": {
      "text/plain": "<IPython.core.display.HTML object>",
      "text/html": "Find logs at: <code>.\\wandb\\run-20230511_113444-kebpeyfl\\logs</code>"
     },
     "metadata": {},
     "output_type": "display_data"
    },
    {
     "data": {
      "text/plain": "([(1.2133382493850744, 0.7354074120521545),\n  (0.2579140320985238, 0.9657777547836304),\n  (0.12683238000807603, 0.9765185117721558),\n  (0.0871188564323136, 0.9818703532218933),\n  (0.06792720695913403, 0.984499990940094)],\n [(0.7449603385113656, 0.7666666507720947),\n  (0.31369887165566707, 0.9114999771118164),\n  (0.9773796441707205, 0.6016666889190674),\n  (0.3847044459048738, 0.8820000290870667),\n  (1.6618803866366123, 0.515500009059906)])"
     },
     "execution_count": 16,
     "metadata": {},
     "output_type": "execute_result"
    }
   ],
   "source": [
    "wandb.login()\n",
    "\n",
    "wandb_config = {\n",
    "    \"project\":\"lab-1\",\n",
    "    \"job_type\": \"model_trainer\",\n",
    "    \"dataset_name\": \"MNIST-Localization\",\n",
    "    \"model_collection_name\": \"MNIST Fully-conv ResNet\"\n",
    "}\n",
    "\n",
    "# Training hyperparameters.\n",
    "optimizer_hparams={\n",
    "    \"lr\":1e-3\n",
    "    #\"weight_decay\": 1e-4,\n",
    "}\n",
    "\n",
    "# Architecture hyperparameters.\n",
    "arch_hparams={\n",
    "    \"layers\":[1]*3,\n",
    "    \"residual\": True,\n",
    "    \"num_classes\":10,\n",
    "    \"num_channels\": 16,\n",
    "    \"residual_type\": 'a',\n",
    "    \"grayscale\": True\n",
    "}\n",
    "\n",
    "config = {\n",
    "    \"optimizer\": \"Adam\",\n",
    "    \"epochs\":5,\n",
    "    **optimizer_hparams,\n",
    "    **arch_hparams\n",
    "}\n",
    "\n",
    "# Initialize WandB logging all hyperparameters\n",
    "writer = wandb.init(project=wandb_config['project'],config=config)\n",
    "config = wandb.config\n",
    "\n",
    "# Initialize model\n",
    "model = FullyConvResNet(**arch_hparams).to(DEVICE)\n",
    "print(model)\n",
    "\n",
    "# Get optimizer from torch.optim\n",
    "opt = getattr(torch.optim,config.optimizer)(params=model.parameters(), **optimizer_hparams)\n",
    "\n",
    "# Begin training\n",
    "trainer = Trainer(opt,writer,epochs=config.epochs,device=DEVICE,checkpoints=True, **wandb_config)\n",
    "trainer.train(model,train_data_loader,valid_data_loader)"
   ],
   "metadata": {
    "collapsed": false,
    "ExecuteTime": {
     "start_time": "2023-05-10T21:19:48.771618Z",
     "end_time": "2023-05-10T21:29:58.015660Z"
    }
   }
  },
  {
   "cell_type": "markdown",
   "source": [
    "#### Localization\n",
    "To perform localization with the trained classifier, we choose the feature map associated to the class with highest probability and use it to generate a heatmap of the same size as the input image.\n",
    "Since the network performs downsampling during the forward pass, the mapping_size is smaller than the image size. To obtain the bounding box coordinates, we should associate each pixel of this probability map to a set of pixel in the original image.\n",
    "\n",
    "To simplify this process, I just performed a bicubic interpolation, resizing the heatmap to the original image size. This is not the best solution, but it is a working approximation.\n",
    "\n",
    "The plotted images should resemble a heatmap of the predicted probability for each pixel."
   ],
   "metadata": {
    "collapsed": false
   }
  },
  {
   "cell_type": "code",
   "execution_count": 17,
   "outputs": [
    {
     "name": "stdout",
     "output_type": "stream",
     "text": [
      "torch.Size([4, 1, 16, 16])\n"
     ]
    },
    {
     "data": {
      "text/plain": "<Figure size 640x480 with 4 Axes>",
      "image/png": "[encoded data removed]"
     },
     "metadata": {},
     "output_type": "display_data"
    }
   ],
   "source": [
    "logits, map = model.localize(images.to(DEVICE))\n",
    "\n",
    "\n",
    "# cam = s2d(F.adaptive_avg_pool2d(output,(32,32)))\n",
    "# logits = F.adaptive_avg_pool2d(output,(1,1))\n",
    "class_pred = torch.argmax(logits.squeeze(),dim=1)\n",
    "\n",
    "\n",
    "# seg_map = cv2.threshold(\n",
    "#     map[:,class_pred,:,:],0.9,1.,cv2.THRESH_BINARY\n",
    "# )\n",
    "\n",
    "masks = []\n",
    "for i,c in enumerate(class_pred):\n",
    "    masks.append(map[i,c.item(),:,:])\n",
    "masks = torch.stack(masks).unsqueeze(1)\n",
    "print(masks.shape)\n",
    "\n",
    "# seg_map = seg_map.unsqueeze(0).unsqueeze(0)\n",
    "\n",
    "resize = torchvision.transforms.Resize(AUG_SIZE, interpolation=InterpolationMode.BICUBIC, antialias=True)\n",
    "\n",
    "t = transforms.ToPILImage()\n",
    "\n",
    "masks = resize(masks).detach().cpu()\n",
    "\n",
    "def show(imgs):\n",
    "    fix, axs = plt.subplots(ncols=len(imgs), squeeze=False)\n",
    "    for i, img in enumerate(imgs):\n",
    "        if isinstance(img, torch.Tensor):\n",
    "            img = img.detach()\n",
    "        img = transforms_F.to_pil_image(img)\n",
    "        axs[0, i].imshow(np.asarray(img))\n",
    "        axs[0, i].set(xticklabels=[], yticklabels=[], xticks=[], yticks=[])\n",
    "\n",
    "show(masks)\n",
    "masks = (masks > 0.8).type(torch.uint8)"
   ],
   "metadata": {
    "collapsed": false,
    "ExecuteTime": {
     "start_time": "2023-05-10T22:51:30.328976Z",
     "end_time": "2023-05-10T22:51:30.578974Z"
    }
   }
  },
  {
   "cell_type": "markdown",
   "source": [
    "#### Bounding Box\n",
    "To transform the heatmap into a bounding box, we set a threshold, to transform the heatmap into a binary mask.\n",
    "We can then use the `masks_to_boxes` function from `torchvision.ops`. This function returns the coordinates of the bounding box that contains the mask."
   ],
   "metadata": {
    "collapsed": false
   }
  },
  {
   "cell_type": "code",
   "execution_count": 18,
   "outputs": [
    {
     "data": {
      "text/plain": "<Figure size 640x480 with 4 Axes>",
      "image/png": "[encoded data removed]"
     },
     "metadata": {},
     "output_type": "display_data"
    }
   ],
   "source": [
    "boxes = masks_to_boxes(masks.squeeze())\n",
    "\n",
    "drawn_boxes = []\n",
    "for i in range(images.shape[0]):\n",
    "    img = images[i]\n",
    "    img = img * 255\n",
    "    drawn_boxes.append(draw_bounding_boxes(img.type(torch.uint8), boxes[i].unsqueeze(0), colors=\"red\"))\n",
    "show(drawn_boxes)"
   ],
   "metadata": {
    "collapsed": false,
    "ExecuteTime": {
     "start_time": "2023-05-10T22:51:32.951248Z",
     "end_time": "2023-05-10T22:51:32.966250Z"
    }
   }
  },
  {
   "cell_type": "markdown",
   "id": "8243f811-8227-4c6f-b07f-56e8cd91643a",
   "metadata": {},
   "source": [
    "### Exercise 2.3: *Explain* the predictions of a CNN\n",
    "\n",
    "Use the CNN model you trained in Exercise 1.2 and implement [*Class Activation Maps*](http://cnnlocalization.csail.mit.edu/#:~:text=A%20class%20activation%20map%20for,decision%20made%20by%20the%20CNN.):\n",
    "\n",
    "> B. Zhou, A. Khosla, A. Lapedriza, A. Oliva, and A. Torralba. Learning Deep Features for Discriminative Localization. CVPR'16 (arXiv:1512.04150, 2015).\n",
    "\n",
    "Use your implementation to demonstrate how your trained CNN *attends* to specific image features to recognize *specific* classes."
   ]
  },
  {
   "cell_type": "code",
   "execution_count": 19,
   "id": "d634a700-56c2-48fd-96e0-4c94d1bd0cfe",
   "metadata": {
    "tags": [],
    "ExecuteTime": {
     "start_time": "2023-05-10T15:32:06.214289Z",
     "end_time": "2023-05-10T15:32:06.256924Z"
    }
   },
   "outputs": [],
   "source": [
    "# Your code here.\n"
   ]
  },
  {
   "cell_type": "markdown",
   "source": [
    "## References\n",
    "- [1] Ashia C. Wilson, Rebecca Roelofs, Mitchell Stern, Nathan Srebro, and Benjamin Recht. The Marginal Value of Adaptive Gradient Methods in Machine Learning, 2018.\n",
    "- [2] Lin, Min, Qiang Chen, and Shuicheng Yan. \"Network in network.\" arXiv preprint arXiv:1312.4400 (2013)."
   ],
   "metadata": {
    "collapsed": false
   }
  }
 ],
 "metadata": {
  "kernelspec": {
   "display_name": "Python 3 (ipykernel)",
   "language": "python",
   "name": "python3"
  },
  "language_info": {
   "codemirror_mode": {
    "name": "ipython",
    "version": 3
   },
   "file_extension": ".py",
   "mimetype": "text/x-python",
   "name": "python",
   "nbconvert_exporter": "python",
   "pygments_lexer": "ipython3",
   "version": "3.10.9"
  }
 },
 "nbformat": 4,
 "nbformat_minor": 5
}
